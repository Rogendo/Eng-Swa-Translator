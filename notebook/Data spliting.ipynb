{
 "cells": [
  {
   "cell_type": "code",
   "execution_count": null,
   "metadata": {},
   "outputs": [],
   "source": [
    "import pandas as pd\n",
    "import numpy as np\n",
    "\n",
    "# Load the dataset into a pandas DataFrame\n",
    "df = pd.read_csv(\"../dataset/en-fr.csv\")\n",
    "# Shuffle the DataFrame randomly\n"
   ]
  },
  {
   "cell_type": "code",
   "execution_count": null,
   "metadata": {},
   "outputs": [],
   "source": [
    "df.head()"
   ]
  },
  {
   "cell_type": "code",
   "execution_count": null,
   "metadata": {},
   "outputs": [],
   "source": [
    "df = df.sample(frac=1)\n",
    "\n",
    "# Get the number of rows\n",
    "num_rows = df.shape[0]\n",
    "\n",
    "# Calculate the split index (half of the rows)\n",
    "split_index = int(num_rows / 2)\n",
    "\n",
    "# Split the DataFrame into two halves\n",
    "df_half1 = df.iloc[:split_index]\n",
    "df_half2 = df.iloc[split_index:]\n",
    "\n",
    "# Save the two halves as separate CSV files (optional)\n",
    "df_half1.to_csv(\"half1.csv\", index=False)\n",
    "df_half2.to_csv(\"half2.csv\", index=False)"
   ]
  },
  {
   "cell_type": "code",
   "execution_count": null,
   "metadata": {},
   "outputs": [],
   "source": [
    "# flask --app chatbot run"
   ]
  }
 ],
 "metadata": {
  "kernelspec": {
   "display_name": "Python 3",
   "language": "python",
   "name": "python3"
  },
  "language_info": {
   "codemirror_mode": {
    "name": "ipython",
    "version": 3
   },
   "file_extension": ".py",
   "mimetype": "text/x-python",
   "name": "python",
   "nbconvert_exporter": "python",
   "pygments_lexer": "ipython3",
   "version": "3.10.12"
  }
 },
 "nbformat": 4,
 "nbformat_minor": 2
}
