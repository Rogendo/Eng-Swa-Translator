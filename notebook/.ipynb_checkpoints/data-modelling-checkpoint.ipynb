{
 "cells": [
  {
   "cell_type": "markdown",
   "id": "387d8544-3e66-4c46-a9e4-600eff45113a",
   "metadata": {},
   "source": [
    "#### English to Swahili Translation Model"
   ]
  },
  {
   "cell_type": "markdown",
   "id": "af8ae0b7-d7bd-4bcf-a641-6a00bed3fb40",
   "metadata": {},
   "source": [
    "#### 1.0 Importing necessary libraries"
   ]
  },
  {
   "cell_type": "code",
   "execution_count": 52,
   "id": "7cfa57b0-e36f-40dd-82cf-e74c9bac4ba4",
   "metadata": {},
   "outputs": [],
   "source": [
    "import matplotlib.pyplot as plt\n",
    "import seaborn as sns\n",
    "from datasets import load_dataset\n",
    "from transformers import pipeline, AutoTokenizer, AutoModelForSeq2SeqLM, Seq2SeqTrainingArguments, Seq2SeqTrainer\n",
    "import warnings\n",
    "warnings.filterwarnings(\"ignore\")"
   ]
  },
  {
   "cell_type": "markdown",
   "id": "740bd31d-3289-4d8a-9ae5-8feda985d11b",
   "metadata": {},
   "source": [
    "#### 1.1 loading the datasets"
   ]
  },
  {
   "cell_type": "code",
   "execution_count": 53,
   "id": "404ab316-5467-4cb9-ad8d-9159f2c1a7a3",
   "metadata": {},
   "outputs": [
    {
     "data": {
      "application/vnd.jupyter.widget-view+json": {
       "model_id": "6e075d41c0a640949fe1524850ca7c78",
       "version_major": 2,
       "version_minor": 0
      },
      "text/plain": [
       "Downloading data files:   0%|          | 0/1 [00:00<?, ?it/s]"
      ]
     },
     "metadata": {},
     "output_type": "display_data"
    },
    {
     "data": {
      "application/vnd.jupyter.widget-view+json": {
       "model_id": "4999350e879949d091653584cf97a177",
       "version_major": 2,
       "version_minor": 0
      },
      "text/plain": [
       "Extracting data files:   0%|          | 0/1 [00:00<?, ?it/s]"
      ]
     },
     "metadata": {},
     "output_type": "display_data"
    },
    {
     "data": {
      "application/vnd.jupyter.widget-view+json": {
       "model_id": "1f00fffa77be4dee943524be30eb38fa",
       "version_major": 2,
       "version_minor": 0
      },
      "text/plain": [
       "Generating train split: 0 examples [00:00, ? examples/s]"
      ]
     },
     "metadata": {},
     "output_type": "display_data"
    }
   ],
   "source": [
    "# Load the CSV dataset\n",
    "df = load_dataset(\"csv\", data_files=\"../dataset/ensw.csv\")"
   ]
  },
  {
   "cell_type": "markdown",
   "id": "162a3e2a-e933-4eb8-a598-861570e5403d",
   "metadata": {},
   "source": [
    "#### 1.2 Viewing the dataset"
   ]
  },
  {
   "cell_type": "code",
   "execution_count": 54,
   "id": "739bf077-30b5-4e94-b4a0-0172b2ec6f3e",
   "metadata": {},
   "outputs": [
    {
     "name": "stdout",
     "output_type": "stream",
     "text": [
      "Dataset object:\n",
      "\n",
      " DatasetDict({\n",
      "    train: Dataset({\n",
      "        features: ['English sentence', 'Swahili Translation'],\n",
      "        num_rows: 209160\n",
      "    })\n",
      "})\n"
     ]
    }
   ],
   "source": [
    "print(\"Dataset object:\\n\\n\", df)"
   ]
  },
  {
   "cell_type": "markdown",
   "id": "24ecd015-546a-4cf9-8b0a-bae7bc7b2bdc",
   "metadata": {},
   "source": [
    "#### 1.3 Viewing the information about the dataset"
   ]
  },
  {
   "cell_type": "code",
   "execution_count": 55,
   "id": "5f823493-3abc-47fb-863d-ef177a6de570",
   "metadata": {},
   "outputs": [
    {
     "name": "stdout",
     "output_type": "stream",
     "text": [
      "Train dataset information:\n",
      "\n",
      " {'English sentence': Value(dtype='string', id=None), 'Swahili Translation': Value(dtype='string', id=None)}\n"
     ]
    }
   ],
   "source": [
    "train_dataset = df['train']\n",
    "print(\"Train dataset information:\\n\\n\", train_dataset.features)"
   ]
  },
  {
   "cell_type": "markdown",
   "id": "912c2d99-58f6-465c-bea1-3247c9ab0754",
   "metadata": {},
   "source": [
    "#### 1.4  Viewing the split dataset information\n"
   ]
  },
  {
   "cell_type": "code",
   "execution_count": 56,
   "id": "9d8d8fbb-9836-407b-9af3-b098d80f8a8b",
   "metadata": {
    "scrolled": true
   },
   "outputs": [
    {
     "name": "stdout",
     "output_type": "stream",
     "text": [
      "\n",
      "Split datasets:\n",
      "\n",
      " DatasetDict({\n",
      "    train: Dataset({\n",
      "        features: ['English sentence', 'Swahili Translation'],\n",
      "        num_rows: 188244\n",
      "    })\n",
      "    test: Dataset({\n",
      "        features: ['English sentence', 'Swahili Translation'],\n",
      "        num_rows: 20916\n",
      "    })\n",
      "})\n"
     ]
    }
   ],
   "source": [
    "split_df = df['train'].train_test_split(train_size=0.9, seed=20)\n",
    "print(\"\\nSplit datasets:\\n\\n\", split_df)"
   ]
  },
  {
   "cell_type": "markdown",
   "id": "25f183e1-a996-42ca-9fc4-c77e44c748d8",
   "metadata": {},
   "source": [
    "\n",
    "#### 1.5 Loading the tokenizer and model"
   ]
  },
  {
   "cell_type": "code",
   "execution_count": 57,
   "id": "0814b196-d870-4999-8c3a-9f8dff0f0392",
   "metadata": {
    "scrolled": true
   },
   "outputs": [],
   "source": [
    "model_checkpoint = \"Helsinki-NLP/opus-mt-en-swc\"\n",
    "tokenizer = AutoTokenizer.from_pretrained(model_checkpoint, return_tensors=\"pt\")\n",
    "model = AutoModelForSeq2SeqLM.from_pretrained(model_checkpoint)"
   ]
  },
  {
   "cell_type": "markdown",
   "id": "6dd3d5a2-12a5-4bd4-a81a-f2cfda89e5f8",
   "metadata": {},
   "source": [
    "#### 1.5 Set the maximum sequence length and define the preprocessing function"
   ]
  },
  {
   "cell_type": "code",
   "execution_count": 58,
   "id": "953fa3fd-4dba-49cd-a813-735df07e0026",
   "metadata": {},
   "outputs": [],
   "source": [
    "max_length = 128"
   ]
  },
  {
   "cell_type": "code",
   "execution_count": 59,
   "id": "245c770b-d9b0-4b02-8337-c00cd895b9da",
   "metadata": {},
   "outputs": [],
   "source": [
    "def preprocess_function(examples):\n",
    "    inputs = str(examples['English sentence'])\n",
    "    targets = str(examples['Swahili Translation'])\n",
    "    \n",
    "    model_inputs = tokenizer(\n",
    "        inputs, text_target=targets, max_length=max_length, padding=\"max_length\", truncation=True, return_tensors=\"pt\"\n",
    "    )\n",
    "    model_inputs['decoder_input_ids'] = model_inputs['input_ids'].clone()\n",
    "\n",
    "    return model_inputs"
   ]
  },
  {
   "cell_type": "markdown",
   "id": "f88d9f25-22f0-460b-b232-d8cce19338f6",
   "metadata": {},
   "source": [
    "#### 1.6 Preprocess the training and validation sets"
   ]
  },
  {
   "cell_type": "code",
   "execution_count": 60,
   "id": "853b7e7c-f88f-457e-b82a-76947d1b6769",
   "metadata": {},
   "outputs": [
    {
     "data": {
      "application/vnd.jupyter.widget-view+json": {
       "model_id": "4fb5618cf20a4bb683735e58a440570f",
       "version_major": 2,
       "version_minor": 0
      },
      "text/plain": [
       "Map (num_proc=4):   0%|          | 0/188244 [00:00<?, ? examples/s]"
      ]
     },
     "metadata": {},
     "output_type": "display_data"
    }
   ],
   "source": [
    "train_dataset = split_df['train'].map(\n",
    "    preprocess_function, batched=True, num_proc=4, remove_columns=[\"English sentence\", \"Swahili Translation\"]\n",
    ")\n"
   ]
  },
  {
   "cell_type": "code",
   "execution_count": 61,
   "id": "5f79f988-7093-4661-9e72-671374140b83",
   "metadata": {},
   "outputs": [
    {
     "data": {
      "application/vnd.jupyter.widget-view+json": {
       "model_id": "4d1d0bedf7964ac4ae976be6f3504f74",
       "version_major": 2,
       "version_minor": 0
      },
      "text/plain": [
       "Map:   0%|          | 0/20916 [00:00<?, ? examples/s]"
      ]
     },
     "metadata": {},
     "output_type": "display_data"
    }
   ],
   "source": [
    "eval_dataset = split_df['test'].map(\n",
    "    preprocess_function, batched=True, remove_columns=[\"English sentence\", \"Swahili Translation\"]\n",
    ")"
   ]
  },
  {
   "cell_type": "markdown",
   "id": "2ca73045-d688-4551-ad22-3ec1fb94cbf2",
   "metadata": {},
   "source": [
    "#### 1.7 Define the training arguments and create the trainer"
   ]
  },
  {
   "cell_type": "code",
   "execution_count": 65,
   "id": "869a8039-daf7-4945-ad35-405d8b9af28c",
   "metadata": {},
   "outputs": [],
   "source": [
    "training_args = Seq2SeqTrainingArguments(\n",
    "    output_dir='./model/',\n",
    "    predict_with_generate=True,\n",
    "    evaluation_strategy=\"steps\",\n",
    "    eval_steps=1000,\n",
    "    save_steps=1000,\n",
    "    learning_rate=3e-5,\n",
    "    per_device_train_batch_size=16,\n",
    "    per_device_eval_batch_size=16,\n",
    "    num_train_epochs=10,\n",
    "    weight_decay=0.01,\n",
    "    push_to_hub=False,\n",
    "    logging_dir=\"./logs/\",\n",
    "    logging_steps=500,\n",
    ")"
   ]
  },
  {
   "cell_type": "code",
   "execution_count": 66,
   "id": "7ef99b18-2f3c-4740-82ae-16d31f7fefd6",
   "metadata": {},
   "outputs": [],
   "source": [
    "trainer = Seq2SeqTrainer(\n",
    "    model=model,\n",
    "    args=training_args,\n",
    "    train_dataset=train_dataset,\n",
    "    eval_dataset=eval_dataset,\n",
    ")"
   ]
  },
  {
   "cell_type": "markdown",
   "id": "9e8fb25d-3a0a-433b-9c74-73067a672109",
   "metadata": {},
   "source": [
    "#### 1.8 Train the model"
   ]
  },
  {
   "cell_type": "code",
   "execution_count": null,
   "id": "f1833977-bcb8-4c20-90c2-b9637f5e5f9e",
   "metadata": {},
   "outputs": [
    {
     "data": {
      "text/html": [
       "\n",
       "    <div>\n",
       "      \n",
       "      <progress value='46' max='120' style='width:300px; height:20px; vertical-align: middle;'></progress>\n",
       "      [ 46/120 10:10 < 17:06, 0.07 it/s, Epoch 3.75/10]\n",
       "    </div>\n",
       "    <table border=\"1\" class=\"dataframe\">\n",
       "  <thead>\n",
       " <tr style=\"text-align: left;\">\n",
       "      <th>Step</th>\n",
       "      <th>Training Loss</th>\n",
       "      <th>Validation Loss</th>\n",
       "    </tr>\n",
       "  </thead>\n",
       "  <tbody>\n",
       "  </tbody>\n",
       "</table><p>"
      ],
      "text/plain": [
       "<IPython.core.display.HTML object>"
      ]
     },
     "metadata": {},
     "output_type": "display_data"
    }
   ],
   "source": [
    "try:\n",
    "    trainer.train()\n",
    "except ValueError as e:\n",
    "    print(\"Error during training:\", e)"
   ]
  },
  {
   "cell_type": "markdown",
   "id": "a53d45ac-82a2-4787-b06b-06e72f6a2474",
   "metadata": {},
   "source": [
    "#### 1.9 Evaluate the model on the validation set"
   ]
  },
  {
   "cell_type": "code",
   "execution_count": null,
   "id": "7761c586-e48e-4f8b-873e-fbe62a0ff89f",
   "metadata": {},
   "outputs": [],
   "source": [
    "result = trainer.evaluate()\n",
    "print(result)"
   ]
  },
  {
   "cell_type": "markdown",
   "id": "df3ff39a-bf42-453f-b407-6e5aec864399",
   "metadata": {},
   "source": [
    "#### 2.0 Export the trained model"
   ]
  },
  {
   "cell_type": "code",
   "execution_count": null,
   "id": "04447f96-a149-4f36-ab33-1b63b8126aa8",
   "metadata": {},
   "outputs": [],
   "source": [
    "model.save_pretrained(\"./model/\")\n",
    "tokenizer.save_pretrained(\"./model/\")"
   ]
  },
  {
   "cell_type": "code",
   "execution_count": null,
   "id": "9d8e60f8-9c1a-4751-bdd6-c7e371cbc9ce",
   "metadata": {},
   "outputs": [],
   "source": [
    "model = Model([encoder_input, decoder_input], decoder_output)"
   ]
  },
  {
   "cell_type": "markdown",
   "id": "7c85cbff-4a52-43f5-8e8a-b6875012c0fd",
   "metadata": {},
   "source": [
    "#### 2.1 Creating a pipeline for translation\n"
   ]
  },
  {
   "cell_type": "code",
   "execution_count": null,
   "id": "7c42dbab-3d80-43fa-8b2e-f353a849d076",
   "metadata": {},
   "outputs": [],
   "source": [
    "translator = pipeline(\n",
    "    \"text2text-generation\",\n",
    "    model=\"./model/\",\n",
    "    tokenizer=\"./model/\",\n",
    ")"
   ]
  },
  {
   "cell_type": "markdown",
   "id": "f3a81dea-3097-4eeb-b573-d24e4f5c837c",
   "metadata": {},
   "source": [
    "#### 2.2 Prompt the user to enter a sentence for translation\n"
   ]
  },
  {
   "cell_type": "code",
   "execution_count": null,
   "id": "447fa907-9f9a-45e5-ac43-38bdae3001fe",
   "metadata": {},
   "outputs": [],
   "source": [
    "while True:\n",
    "    text = input(\"Enter an English sentence for translation to Swahili (type 'exit' to quit): \")\n",
    "    if text == \"exit\":\n",
    "        break\n",
    "    translated_text = translator(text, max_length=max_length, num_beams=5)[0]['generated_text']\n",
    "    print(f\"Translated text: {translated_text}\")"
   ]
  },
  {
   "cell_type": "code",
   "execution_count": null,
   "id": "45c89587-3a1f-46d4-9b45-5c221a8bc7af",
   "metadata": {},
   "outputs": [],
   "source": []
  }
 ],
 "metadata": {
  "kernelspec": {
   "display_name": "Python 3 (ipykernel)",
   "language": "python",
   "name": "python3"
  },
  "language_info": {
   "codemirror_mode": {
    "name": "ipython",
    "version": 3
   },
   "file_extension": ".py",
   "mimetype": "text/x-python",
   "name": "python",
   "nbconvert_exporter": "python",
   "pygments_lexer": "ipython3",
   "version": "3.9.18"
  }
 },
 "nbformat": 4,
 "nbformat_minor": 5
}
