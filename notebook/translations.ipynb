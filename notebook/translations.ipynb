{
 "cells": [
  {
   "cell_type": "code",
   "execution_count": 2,
   "metadata": {},
   "outputs": [
    {
     "name": "stderr",
     "output_type": "stream",
     "text": [
      "/home/rogendo/.local/lib/python3.10/site-packages/tqdm/auto.py:21: TqdmWarning: IProgress not found. Please update jupyter and ipywidgets. See https://ipywidgets.readthedocs.io/en/stable/user_install.html\n",
      "  from .autonotebook import tqdm as notebook_tqdm\n",
      "2023-12-17 19:40:38.096133: E external/local_xla/xla/stream_executor/cuda/cuda_dnn.cc:9261] Unable to register cuDNN factory: Attempting to register factory for plugin cuDNN when one has already been registered\n",
      "2023-12-17 19:40:38.096691: E external/local_xla/xla/stream_executor/cuda/cuda_fft.cc:607] Unable to register cuFFT factory: Attempting to register factory for plugin cuFFT when one has already been registered\n",
      "2023-12-17 19:40:38.243096: E external/local_xla/xla/stream_executor/cuda/cuda_blas.cc:1515] Unable to register cuBLAS factory: Attempting to register factory for plugin cuBLAS when one has already been registered\n",
      "2023-12-17 19:40:38.591501: I tensorflow/core/platform/cpu_feature_guard.cc:182] This TensorFlow binary is optimized to use available CPU instructions in performance-critical operations.\n",
      "To enable the following instructions: AVX2 FMA, in other operations, rebuild TensorFlow with the appropriate compiler flags.\n",
      "2023-12-17 19:40:53.161330: W tensorflow/compiler/tf2tensorrt/utils/py_utils.cc:38] TF-TRT Warning: Could not find TensorRT\n"
     ]
    }
   ],
   "source": [
    "from transformers import pipeline, AutoTokenizer, AutoModelForSeq2SeqLM\n",
    "\n",
    "# translator pipeline for english to swahili translations\n",
    "eng_swa_model_checkpoint = \"Helsinki-NLP/opus-mt-en-swc\"\n",
    "eng_swa_tokenizer = AutoTokenizer.from_pretrained(\"../model/eng_swa_model/\")\n",
    "eng_swa_model = AutoModelForSeq2SeqLM.from_pretrained(\"../model/eng_swa_model/\")\n",
    "\n",
    "eng_swa_translator = pipeline(\n",
    "    \"text2text-generation\",\n",
    "    model=eng_swa_model,\n",
    "    tokenizer=eng_swa_tokenizer,\n",
    ")\n",
    "\n",
    "def translate_text_eng_swa(text):\n",
    "    translated_text = eng_swa_translator(text, max_length=128, num_beams=5)[0]['generated_text']\n",
    "    return translated_text\n",
    "\n",
    "# translator pipeline for swahili to english translations\n",
    "swa_eng_model_checkpoint = \"Helsinki-NLP/opus-mt-swc-en\"\n",
    "swa_eng_tokenizer = AutoTokenizer.from_pretrained(\"../model/swa_eng_model/\")\n",
    "swa_eng_model = AutoModelForSeq2SeqLM.from_pretrained(\"../model/swa_eng_model/\")\n",
    "\n",
    "swa_eng_translator = pipeline(\n",
    "    \"text2text-generation\",\n",
    "    model=swa_eng_model,\n",
    "    tokenizer=swa_eng_tokenizer,\n",
    ")\n",
    "\n",
    "def translate_text_swa_eng(text):\n",
    "    translated_text = swa_eng_translator(text, max_length=128, num_beams=5)[0]['generated_text']\n",
    "    return translated_text\n"
   ]
  },
  {
   "cell_type": "code",
   "execution_count": 1,
   "metadata": {},
   "outputs": [
    {
     "data": {
      "text/plain": [
       "<spacy_langdetect.spacy_langdetect.LanguageDetector at 0x7fd5839b3250>"
      ]
     },
     "execution_count": 1,
     "metadata": {},
     "output_type": "execute_result"
    }
   ],
   "source": [
    "import spacy\n",
    "from spacy.language import Language\n",
    "from spacy_langdetect import LanguageDetector\n",
    "\n",
    "\n",
    "# Language detector\n",
    "def get_lang_detector(nlp, name):\n",
    "    return LanguageDetector()\n",
    "\n",
    "# # Load the English language model\n",
    "nlp = spacy.load(\"en_core_web_sm\")\n",
    "\n",
    "# # Register the language detection factory\n",
    "Language.factory(\"language_detector\", func=get_lang_detector)\n",
    "\n",
    "# # Add the language detection component to the pipeline\n",
    "nlp.add_pipe('language_detector', last=True)\n",
    "\n",
    "# res=\"We went to the club for drinks. We were so drunk\"\n"
   ]
  },
  {
   "cell_type": "code",
   "execution_count": 3,
   "metadata": {},
   "outputs": [
    {
     "name": "stdout",
     "output_type": "stream",
     "text": [
      "Detected language: en\n",
      "Unaweza kupata safu zake, safu za nguzo, na habari kwa kuandika orodha ya kawaida au kwa kutumia safu za safu\n",
      "correct translation\n"
     ]
    }
   ],
   "source": [
    "\n",
    "import csv\n",
    "import os\n",
    "import pandas as pd\n",
    "\n",
    "def write_to_csv(user_input,translated_text, correct_translation):\n",
    "    # Create a CSV file\n",
    "    with open('../incorrect_translations/translations.csv', 'a', newline='') as file:\n",
    "        # Create a CSV writer\n",
    "        writer = csv.writer(file)\n",
    "\n",
    "        # Check if the file is empty, i.e., it does not have a header row yet\n",
    "        if os.path.getsize('translations.csv') == 0:\n",
    "            # Write the column header to the file\n",
    "            writer.writerow(['User Input', 'Translated Text', 'Correct Translation'])\n",
    "\n",
    "\n",
    "        # Write the data to the CSV file\n",
    "        writer.writerow([ user_input, translated_text, correct_translation])\n",
    "\n",
    "\n",
    "\n",
    "# user_text=\"Once upon a time in the lush grasslands of East Africa, a wise old tortoise named Kiume lived a quiet, slow life. One sunny day, he stumbled upon a mischievous hare named Njeru. \"\n",
    "# user_text=\"Njeru, a master of deception, was known for tricking other animals into thinking he was a slower creature. This made him an outcast in the animal kingdom, and he often felt alone.\"\n",
    "# user_text=\"Njeru eventually decided to join forces with Kiume. The two formed an unbreakable bond, with Njeru vowing to change his ways and start treating others with respect.\"\n",
    "# user_text=\"Kiume, sensing Njeru's loneliness, offered his friendship. At first, Njeru hesitated, remembering the tricks he had played on others. But as time went by, he found himself growing fonder of Kiume.\"\n",
    "user_text=\"You can access its rows, columns, and data by using standard indexing or by using column headers\"\n",
    "# language detector here\n",
    "\n",
    "# language detection\n",
    "doc=nlp(user_text)\n",
    "detected_language = doc._.language['language']\n",
    "print(f\"Detected language: {detected_language}\")   \n",
    "\n",
    "if detected_language==\"en\":   \n",
    "    translated_text=translate_text_eng_swa(user_text)\n",
    "    print(translate_text_eng_swa(user_text))\n",
    "elif detected_language=='sw':\n",
    "    translated_text=translate_text_swa_eng(user_text)\n",
    "    print(translate_text_swa_eng(user_text))\n",
    "\n",
    "\n",
    "\n",
    "\n",
    "\n",
    "is_translation_correct = input(\"Is translation correct? \")\n",
    "# is_translation_correct = bool(is_translation_correct)\n",
    "if is_translation_correct.lower()=='yes': # If is_translation_correct is True\n",
    "    print(\"correct translation\")\n",
    "    \n",
    "elif  is_translation_correct.lower()=='no': # If is_translation_correct is False\n",
    "    corrected_text = input(\"Enter the corrected text: \")\n",
    "    \n",
    "    print(\"correct translation \" + corrected_text)\n",
    "    write_to_csv(user_text, translated_text, corrected_text)\n",
    "\n"
   ]
  },
  {
   "cell_type": "code",
   "execution_count": 4,
   "metadata": {},
   "outputs": [],
   "source": [
    "# # proprocess the saved csv file \n",
    "# def preprocess_csv(file):\n",
    "#     import pandas as pd\n",
    "#     df = pd.read_csv(file)\n",
    "#     # remove rows with missing values (NaN or None)\n",
    "#     df = df.dropna()\n",
    "#     # df = df.\n",
    "#     return df\n",
    "\n",
    "# data = open('../incorrect_translations/translations.csv')\n",
    "# preprocess_csv(data)    "
   ]
  },
  {
   "cell_type": "code",
   "execution_count": 5,
   "metadata": {},
   "outputs": [
    {
     "data": {
      "text/html": [
       "<div>\n",
       "<style scoped>\n",
       "    .dataframe tbody tr th:only-of-type {\n",
       "        vertical-align: middle;\n",
       "    }\n",
       "\n",
       "    .dataframe tbody tr th {\n",
       "        vertical-align: top;\n",
       "    }\n",
       "\n",
       "    .dataframe thead th {\n",
       "        text-align: right;\n",
       "    }\n",
       "</style>\n",
       "<table border=\"1\" class=\"dataframe\">\n",
       "  <thead>\n",
       "    <tr style=\"text-align: right;\">\n",
       "      <th></th>\n",
       "      <th>User Input</th>\n",
       "      <th>Translated Text</th>\n",
       "      <th>Correct Translation</th>\n",
       "    </tr>\n",
       "  </thead>\n",
       "  <tbody>\n",
       "    <tr>\n",
       "      <th>0</th>\n",
       "      <td>what was the original crime</td>\n",
       "      <td>Uhalifu wa awali ulisababishwa na nini?</td>\n",
       "      <td>uhalifu wa kwanza ulikuwa?</td>\n",
       "    </tr>\n",
       "    <tr>\n",
       "      <th>1</th>\n",
       "      <td>Kiume, sensing Njeru's loneliness, offered his...</td>\n",
       "      <td>Kiume, ambaye alitambua upweke wa Njeru, alito...</td>\n",
       "      <td>Kiume ambaye alitambua upweke wa Njeru, alijit...</td>\n",
       "    </tr>\n",
       "    <tr>\n",
       "      <th>2</th>\n",
       "      <td>Kiume, sensing Njeru's loneliness, offered his...</td>\n",
       "      <td>Kiume, ambaye alitambua upweke wa Njeru, alito...</td>\n",
       "      <td>Kiume, ambaye alitambua upweke wa Njeru, aliji...</td>\n",
       "    </tr>\n",
       "    <tr>\n",
       "      <th>3</th>\n",
       "      <td>Njeru eventually decided to join forces with K...</td>\n",
       "      <td>Mwishowe Njeru aliamua kujiunga na jeshi la Kiume</td>\n",
       "      <td>Mwishowe Njeru aliamua kujiunga na Kiume</td>\n",
       "    </tr>\n",
       "    <tr>\n",
       "      <th>4</th>\n",
       "      <td>Njeru eventually decided to join forces with K...</td>\n",
       "      <td>Mwishowe Njeru aliamua kujiunga na majeshi pam...</td>\n",
       "      <td>Mwishowe Njeru aliamua kujiunga pamoja na Kium...</td>\n",
       "    </tr>\n",
       "  </tbody>\n",
       "</table>\n",
       "</div>"
      ],
      "text/plain": [
       "                                          User Input  \\\n",
       "0                       what was the original crime    \n",
       "1  Kiume, sensing Njeru's loneliness, offered his...   \n",
       "2  Kiume, sensing Njeru's loneliness, offered his...   \n",
       "3  Njeru eventually decided to join forces with K...   \n",
       "4  Njeru eventually decided to join forces with K...   \n",
       "\n",
       "                                     Translated Text  \\\n",
       "0            Uhalifu wa awali ulisababishwa na nini?   \n",
       "1  Kiume, ambaye alitambua upweke wa Njeru, alito...   \n",
       "2  Kiume, ambaye alitambua upweke wa Njeru, alito...   \n",
       "3  Mwishowe Njeru aliamua kujiunga na jeshi la Kiume   \n",
       "4  Mwishowe Njeru aliamua kujiunga na majeshi pam...   \n",
       "\n",
       "                                 Correct Translation  \n",
       "0                         uhalifu wa kwanza ulikuwa?  \n",
       "1  Kiume ambaye alitambua upweke wa Njeru, alijit...  \n",
       "2  Kiume, ambaye alitambua upweke wa Njeru, aliji...  \n",
       "3           Mwishowe Njeru aliamua kujiunga na Kiume  \n",
       "4  Mwishowe Njeru aliamua kujiunga pamoja na Kium...  "
      ]
     },
     "execution_count": 5,
     "metadata": {},
     "output_type": "execute_result"
    }
   ],
   "source": [
    "import pandas as pd\n",
    "df = pd.read_csv(\"../incorrect_translations/translations.csv\")\n",
    "# remove rows with missing values (NaN or None)\n",
    "df = df.dropna()\n",
    "df \n"
   ]
  },
  {
   "cell_type": "code",
   "execution_count": 6,
   "metadata": {},
   "outputs": [],
   "source": [
    "# drop the 'Translated Text' column\n",
    "\n",
    "df = df.drop('Translated Text', axis=1)\n"
   ]
  },
  {
   "cell_type": "code",
   "execution_count": 7,
   "metadata": {},
   "outputs": [
    {
     "data": {
      "text/html": [
       "<div>\n",
       "<style scoped>\n",
       "    .dataframe tbody tr th:only-of-type {\n",
       "        vertical-align: middle;\n",
       "    }\n",
       "\n",
       "    .dataframe tbody tr th {\n",
       "        vertical-align: top;\n",
       "    }\n",
       "\n",
       "    .dataframe thead th {\n",
       "        text-align: right;\n",
       "    }\n",
       "</style>\n",
       "<table border=\"1\" class=\"dataframe\">\n",
       "  <thead>\n",
       "    <tr style=\"text-align: right;\">\n",
       "      <th></th>\n",
       "      <th>User Input</th>\n",
       "      <th>Correct Translation</th>\n",
       "    </tr>\n",
       "  </thead>\n",
       "  <tbody>\n",
       "    <tr>\n",
       "      <th>count</th>\n",
       "      <td>5</td>\n",
       "      <td>5</td>\n",
       "    </tr>\n",
       "    <tr>\n",
       "      <th>unique</th>\n",
       "      <td>4</td>\n",
       "      <td>5</td>\n",
       "    </tr>\n",
       "    <tr>\n",
       "      <th>top</th>\n",
       "      <td>Kiume, sensing Njeru's loneliness, offered his...</td>\n",
       "      <td>uhalifu wa kwanza ulikuwa?</td>\n",
       "    </tr>\n",
       "    <tr>\n",
       "      <th>freq</th>\n",
       "      <td>2</td>\n",
       "      <td>1</td>\n",
       "    </tr>\n",
       "  </tbody>\n",
       "</table>\n",
       "</div>"
      ],
      "text/plain": [
       "                                               User Input  \\\n",
       "count                                                   5   \n",
       "unique                                                  4   \n",
       "top     Kiume, sensing Njeru's loneliness, offered his...   \n",
       "freq                                                    2   \n",
       "\n",
       "               Correct Translation  \n",
       "count                            5  \n",
       "unique                           5  \n",
       "top     uhalifu wa kwanza ulikuwa?  \n",
       "freq                             1  "
      ]
     },
     "execution_count": 7,
     "metadata": {},
     "output_type": "execute_result"
    }
   ],
   "source": [
    "df.describe()"
   ]
  },
  {
   "cell_type": "code",
   "execution_count": 8,
   "metadata": {},
   "outputs": [
    {
     "data": {
      "text/plain": [
       "Index(['User Input', 'Correct Translation'], dtype='object')"
      ]
     },
     "execution_count": 8,
     "metadata": {},
     "output_type": "execute_result"
    }
   ],
   "source": [
    "df.columns"
   ]
  },
  {
   "cell_type": "code",
   "execution_count": null,
   "metadata": {},
   "outputs": [],
   "source": []
  },
  {
   "cell_type": "markdown",
   "metadata": {},
   "source": []
  }
 ],
 "metadata": {
  "kernelspec": {
   "display_name": "Python 3",
   "language": "python",
   "name": "python3"
  },
  "language_info": {
   "codemirror_mode": {
    "name": "ipython",
    "version": 3
   },
   "file_extension": ".py",
   "mimetype": "text/x-python",
   "name": "python",
   "nbconvert_exporter": "python",
   "pygments_lexer": "ipython3",
   "version": "3.10.12"
  }
 },
 "nbformat": 4,
 "nbformat_minor": 2
}
