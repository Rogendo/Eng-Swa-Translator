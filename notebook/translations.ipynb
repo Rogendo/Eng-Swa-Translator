{
 "cells": [
  {
   "cell_type": "code",
   "execution_count": 1,
   "metadata": {},
   "outputs": [
    {
     "name": "stderr",
     "output_type": "stream",
     "text": [
      "/home/rogendo/.local/lib/python3.10/site-packages/tqdm/auto.py:21: TqdmWarning: IProgress not found. Please update jupyter and ipywidgets. See https://ipywidgets.readthedocs.io/en/stable/user_install.html\n",
      "  from .autonotebook import tqdm as notebook_tqdm\n",
      "2023-12-20 17:06:59.193038: E external/local_xla/xla/stream_executor/cuda/cuda_dnn.cc:9261] Unable to register cuDNN factory: Attempting to register factory for plugin cuDNN when one has already been registered\n",
      "2023-12-20 17:06:59.193211: E external/local_xla/xla/stream_executor/cuda/cuda_fft.cc:607] Unable to register cuFFT factory: Attempting to register factory for plugin cuFFT when one has already been registered\n",
      "2023-12-20 17:06:59.306180: E external/local_xla/xla/stream_executor/cuda/cuda_blas.cc:1515] Unable to register cuBLAS factory: Attempting to register factory for plugin cuBLAS when one has already been registered\n",
      "2023-12-20 17:06:59.620842: I tensorflow/core/platform/cpu_feature_guard.cc:182] This TensorFlow binary is optimized to use available CPU instructions in performance-critical operations.\n",
      "To enable the following instructions: AVX2 FMA, in other operations, rebuild TensorFlow with the appropriate compiler flags.\n",
      "2023-12-20 17:07:07.718341: W tensorflow/compiler/tf2tensorrt/utils/py_utils.cc:38] TF-TRT Warning: Could not find TensorRT\n"
     ]
    }
   ],
   "source": [
    "from transformers import pipeline, AutoTokenizer, AutoModelForSeq2SeqLM\n",
    "\n",
    "# translator pipeline for english to swahili translations\n",
    "eng_swa_model_checkpoint = \"Helsinki-NLP/opus-mt-en-swc\"\n",
    "eng_swa_tokenizer = AutoTokenizer.from_pretrained(\"../model/eng_swa_model/\")\n",
    "eng_swa_model = AutoModelForSeq2SeqLM.from_pretrained(\"../model/eng_swa_model/\")\n",
    "\n",
    "eng_swa_translator = pipeline(\n",
    "    \"text2text-generation\",\n",
    "    model=eng_swa_model,\n",
    "    tokenizer=eng_swa_tokenizer,\n",
    ")\n",
    "\n",
    "def translate_text_eng_swa(text):\n",
    "    translated_text = eng_swa_translator(text, max_length=128, num_beams=5)[0]['generated_text']\n",
    "    return translated_text\n",
    "\n",
    "# translator pipeline for swahili to english translations\n",
    "swa_eng_model_checkpoint = \"Helsinki-NLP/opus-mt-swc-en\"\n",
    "swa_eng_tokenizer = AutoTokenizer.from_pretrained(\"../model/swa_eng_model/\")\n",
    "swa_eng_model = AutoModelForSeq2SeqLM.from_pretrained(\"../model/swa_eng_model/\")\n",
    "\n",
    "swa_eng_translator = pipeline(\n",
    "    \"text2text-generation\",\n",
    "    model=swa_eng_model,\n",
    "    tokenizer=swa_eng_tokenizer,\n",
    ")\n",
    "\n",
    "def translate_text_swa_eng(text):\n",
    "    translated_text = swa_eng_translator(text, max_length=128, num_beams=5)[0]['generated_text']\n",
    "    return translated_text\n"
   ]
  },
  {
   "cell_type": "code",
   "execution_count": 2,
   "metadata": {},
   "outputs": [
    {
     "data": {
      "text/plain": [
       "<spacy_langdetect.spacy_langdetect.LanguageDetector at 0x7f3fd27907f0>"
      ]
     },
     "execution_count": 2,
     "metadata": {},
     "output_type": "execute_result"
    }
   ],
   "source": [
    "import spacy\n",
    "from spacy.language import Language\n",
    "from spacy_langdetect import LanguageDetector\n",
    "\n",
    "\n",
    "# Language detector\n",
    "def get_lang_detector(nlp, name):\n",
    "    return LanguageDetector()\n",
    "\n",
    "# # Load the English language model\n",
    "nlp = spacy.load(\"en_core_web_sm\")\n",
    "\n",
    "# # Register the language detection factory\n",
    "Language.factory(\"language_detector\", func=get_lang_detector)\n",
    "\n",
    "# # Add the language detection component to the pipeline\n",
    "nlp.add_pipe('language_detector', last=True)\n",
    "\n",
    "# res=\"We went to the club for drinks. We were so drunk\"\n"
   ]
  },
  {
   "cell_type": "code",
   "execution_count": 3,
   "metadata": {},
   "outputs": [
    {
     "name": "stdout",
     "output_type": "stream",
     "text": [
      "Detected language: en\n",
      "Baada ya muda fulani katika mbuga nzuri za Afrika Mashariki, mnyama mmoja mzee mwenye hekima anayeitwa Kiume aliishi maisha ya utulivu na ya polepole, siku moja yenye jua, alikwazwa na sungura anayeitwa Njeru.\n"
     ]
    }
   ],
   "source": [
    "\n",
    "import csv\n",
    "import os\n",
    "import pandas as pd\n",
    "\n",
    "def write_to_csv(user_input,translated_text, correct_translation):\n",
    "    # Create a CSV file\n",
    "    with open('../incorrect_translations/translations.csv', 'a', newline='') as file:\n",
    "        # Create a CSV writer\n",
    "        writer = csv.writer(file)\n",
    "\n",
    "        # Check if the file is empty, i.e., it does not have a header row yet\n",
    "        if os.path.getsize('../incorrect_translations/translations.csv') == 0:\n",
    "            # Write the column header to the file\n",
    "            writer.writerow(['User Input', 'Translated Text', 'Correct Translation'])\n",
    "\n",
    "\n",
    "        # Write the data to the CSV file\n",
    "        writer.writerow([ user_input, translated_text, correct_translation])\n",
    "\n",
    "\n",
    "# user_text=\"I love going to school because I get to play with my friends\"\n",
    "user_text=\"Once upon a time in the lush grasslands of East Africa, a wise old tortoise named Kiume lived a quiet, slow life. One sunny day, he stumbled upon a mischievous hare named Njeru. \"\n",
    "# user_text=\"Njeru, a master of deception, was known for tricking other animals into thinking he was a slower creature. This made him an outcast in the animal kingdom, and he often felt alone.\"\n",
    "# user_text=\"Njeru eventually decided to join forces with Kiume. The two formed an unbreakable bond, with Njeru vowing to change his ways and start treating others with respect.\"\n",
    "# user_text=\"Kiume, sensing Njeru's loneliness, offered his friendship. At first, Njeru hesitated, remembering the tricks he had played on others. But as time went by, he found himself growing fonder of Kiume.\"\n",
    "# user_text=\"You can access its rows, columns, and data by using standard indexing or by using column headers\"\n",
    "# user_text = \"\"\"\n",
    "# Once upon a time in a small town, there was a little girl named Lily who loved going to school. Every morning, she would put on her favorite pink backpack and skip down the road to the cheerful school building. In Lily's class, there was a kind and friendly teacher named Mrs. Johnson. Mrs. Johnson had a big smile that made everyone feel happy. The classroom was filled with colorful posters, and there was a cozy reading corner with soft cushions. One sunny day, Mrs. Johnson announced a special project. The class was going to create a magical garden in the schoolyard. Each student would bring a flower or a plant to contribute to the garden.\n",
    "# \"\"\"\n",
    "# language detector here\n",
    "\n",
    "# language detection\n",
    "doc=nlp(user_text)\n",
    "detected_language = doc._.language['language']\n",
    "print(f\"Detected language: {detected_language}\")   \n",
    "\n",
    "if detected_language==\"en\":   \n",
    "    translated_text=translate_text_eng_swa(user_text)\n",
    "    print(translate_text_eng_swa(user_text))\n",
    "elif detected_language=='sw':\n",
    "    translated_text=translate_text_swa_eng(user_text)\n",
    "    print(translate_text_swa_eng(user_text))\n",
    "\n",
    "\n",
    "\n",
    "\n",
    "\n",
    "is_translation_correct = input(\"Is translation correct? \")\n",
    "# is_translation_correct = bool(is_translation_correct)\n",
    "if is_translation_correct.lower()=='yes': # If is_translation_correct is True\n",
    "    print(\"correct translation\")\n",
    "    \n",
    "elif  is_translation_correct.lower()=='no': # If is_translation_correct is False\n",
    "    corrected_text = input(\"Enter the corrected text: \")\n",
    "    \n",
    "    print(\"correct translation \" + corrected_text)\n",
    "    write_to_csv(user_text, translated_text, corrected_text)\n",
    "\n"
   ]
  },
  {
   "cell_type": "code",
   "execution_count": null,
   "metadata": {},
   "outputs": [],
   "source": [
    "# # proprocess the saved csv file \n",
    "# def preprocess_csv(file):\n",
    "#     import pandas as pd\n",
    "#     df = pd.read_csv(file)\n",
    "#     # remove rows with missing values (NaN or None)\n",
    "#     df = df.dropna()\n",
    "#     # df = df.\n",
    "#     return df\n",
    "\n",
    "# data = open('../incorrect_translations/translations.csv')\n",
    "# preprocess_csv(data)    "
   ]
  },
  {
   "cell_type": "code",
   "execution_count": null,
   "metadata": {},
   "outputs": [],
   "source": []
  },
  {
   "cell_type": "code",
   "execution_count": null,
   "metadata": {},
   "outputs": [
    {
     "data": {
      "text/html": [
       "<div>\n",
       "<style scoped>\n",
       "    .dataframe tbody tr th:only-of-type {\n",
       "        vertical-align: middle;\n",
       "    }\n",
       "\n",
       "    .dataframe tbody tr th {\n",
       "        vertical-align: top;\n",
       "    }\n",
       "\n",
       "    .dataframe thead th {\n",
       "        text-align: right;\n",
       "    }\n",
       "</style>\n",
       "<table border=\"1\" class=\"dataframe\">\n",
       "  <thead>\n",
       "    <tr style=\"text-align: right;\">\n",
       "      <th></th>\n",
       "      <th>User Input</th>\n",
       "      <th>Translated Text</th>\n",
       "      <th>Correct Translation</th>\n",
       "    </tr>\n",
       "  </thead>\n",
       "  <tbody>\n",
       "    <tr>\n",
       "      <th>0</th>\n",
       "      <td>what was the original crime</td>\n",
       "      <td>Uhalifu wa awali ulisababishwa na nini?</td>\n",
       "      <td>uhalifu wa kwanza ulikuwa?</td>\n",
       "    </tr>\n",
       "    <tr>\n",
       "      <th>1</th>\n",
       "      <td>Kiume, sensing Njeru's loneliness, offered his...</td>\n",
       "      <td>Kiume, ambaye alitambua upweke wa Njeru, alito...</td>\n",
       "      <td>Kiume ambaye alitambua upweke wa Njeru, alijit...</td>\n",
       "    </tr>\n",
       "    <tr>\n",
       "      <th>2</th>\n",
       "      <td>Kiume, sensing Njeru's loneliness, offered his...</td>\n",
       "      <td>Kiume, ambaye alitambua upweke wa Njeru, alito...</td>\n",
       "      <td>Kiume, ambaye alitambua upweke wa Njeru, aliji...</td>\n",
       "    </tr>\n",
       "    <tr>\n",
       "      <th>3</th>\n",
       "      <td>Njeru eventually decided to join forces with K...</td>\n",
       "      <td>Mwishowe Njeru aliamua kujiunga na jeshi la Kiume</td>\n",
       "      <td>Mwishowe Njeru aliamua kujiunga na Kiume</td>\n",
       "    </tr>\n",
       "    <tr>\n",
       "      <th>4</th>\n",
       "      <td>Njeru eventually decided to join forces with K...</td>\n",
       "      <td>Mwishowe Njeru aliamua kujiunga na majeshi pam...</td>\n",
       "      <td>Mwishowe Njeru aliamua kujiunga pamoja na Kium...</td>\n",
       "    </tr>\n",
       "  </tbody>\n",
       "</table>\n",
       "</div>"
      ],
      "text/plain": [
       "                                          User Input  \\\n",
       "0                       what was the original crime    \n",
       "1  Kiume, sensing Njeru's loneliness, offered his...   \n",
       "2  Kiume, sensing Njeru's loneliness, offered his...   \n",
       "3  Njeru eventually decided to join forces with K...   \n",
       "4  Njeru eventually decided to join forces with K...   \n",
       "\n",
       "                                     Translated Text  \\\n",
       "0            Uhalifu wa awali ulisababishwa na nini?   \n",
       "1  Kiume, ambaye alitambua upweke wa Njeru, alito...   \n",
       "2  Kiume, ambaye alitambua upweke wa Njeru, alito...   \n",
       "3  Mwishowe Njeru aliamua kujiunga na jeshi la Kiume   \n",
       "4  Mwishowe Njeru aliamua kujiunga na majeshi pam...   \n",
       "\n",
       "                                 Correct Translation  \n",
       "0                         uhalifu wa kwanza ulikuwa?  \n",
       "1  Kiume ambaye alitambua upweke wa Njeru, alijit...  \n",
       "2  Kiume, ambaye alitambua upweke wa Njeru, aliji...  \n",
       "3           Mwishowe Njeru aliamua kujiunga na Kiume  \n",
       "4  Mwishowe Njeru aliamua kujiunga pamoja na Kium...  "
      ]
     },
     "execution_count": 5,
     "metadata": {},
     "output_type": "execute_result"
    }
   ],
   "source": [
    "import pandas as pd\n",
    "df = pd.read_csv(\"../incorrect_translations/translations.csv\")\n",
    "# remove rows with missing values (NaN or None)\n",
    "df = df.dropna()\n",
    "df \n"
   ]
  },
  {
   "cell_type": "code",
   "execution_count": null,
   "metadata": {},
   "outputs": [],
   "source": [
    "# # drop the 'Translated Text' column\n",
    "\n",
    "# df = df.drop('Translated Text', axis=1)\n"
   ]
  },
  {
   "cell_type": "code",
   "execution_count": null,
   "metadata": {},
   "outputs": [],
   "source": [
    "# df.describe()"
   ]
  },
  {
   "cell_type": "code",
   "execution_count": null,
   "metadata": {},
   "outputs": [],
   "source": [
    "# df.columns"
   ]
  },
  {
   "cell_type": "code",
   "execution_count": null,
   "metadata": {},
   "outputs": [
    {
     "name": "stdout",
     "output_type": "stream",
     "text": [
      "Defaulting to user installation because normal site-packages is not writeable\n",
      "Requirement already satisfied: transformers in /home/rogendo/.local/lib/python3.10/site-packages (4.35.2)\n",
      "Requirement already satisfied: regex!=2019.12.17 in /home/rogendo/.local/lib/python3.10/site-packages (from transformers) (2023.10.3)\n",
      "Requirement already satisfied: pyyaml>=5.1 in /usr/lib/python3/dist-packages (from transformers) (5.4.1)\n",
      "Requirement already satisfied: tqdm>=4.27 in /home/rogendo/.local/lib/python3.10/site-packages (from transformers) (4.66.1)\n",
      "Requirement already satisfied: tokenizers<0.19,>=0.14 in /home/rogendo/.local/lib/python3.10/site-packages (from transformers) (0.15.0)\n",
      "Requirement already satisfied: packaging>=20.0 in /home/rogendo/.local/lib/python3.10/site-packages (from transformers) (23.2)\n",
      "Requirement already satisfied: requests in /home/rogendo/.local/lib/python3.10/site-packages (from transformers) (2.31.0)\n",
      "Requirement already satisfied: numpy>=1.17 in /home/rogendo/.local/lib/python3.10/site-packages (from transformers) (1.26.2)\n",
      "Requirement already satisfied: huggingface-hub<1.0,>=0.16.4 in /home/rogendo/.local/lib/python3.10/site-packages (from transformers) (0.19.4)\n",
      "Requirement already satisfied: safetensors>=0.3.1 in /home/rogendo/.local/lib/python3.10/site-packages (from transformers) (0.4.1)\n",
      "Requirement already satisfied: filelock in /home/rogendo/.local/lib/python3.10/site-packages (from transformers) (3.13.1)\n",
      "Requirement already satisfied: fsspec>=2023.5.0 in /home/rogendo/.local/lib/python3.10/site-packages (from huggingface-hub<1.0,>=0.16.4->transformers) (2023.10.0)\n",
      "Requirement already satisfied: typing-extensions>=3.7.4.3 in /home/rogendo/.local/lib/python3.10/site-packages (from huggingface-hub<1.0,>=0.16.4->transformers) (4.8.0)\n",
      "Requirement already satisfied: idna<4,>=2.5 in /usr/lib/python3/dist-packages (from requests->transformers) (3.3)\n",
      "Requirement already satisfied: certifi>=2017.4.17 in /usr/lib/python3/dist-packages (from requests->transformers) (2020.6.20)\n",
      "Requirement already satisfied: charset-normalizer<4,>=2 in /home/rogendo/.local/lib/python3.10/site-packages (from requests->transformers) (3.3.2)\n",
      "Requirement already satisfied: urllib3<3,>=1.21.1 in /usr/lib/python3/dist-packages (from requests->transformers) (1.26.5)\n",
      "Defaulting to user installation because normal site-packages is not writeable\n",
      "Requirement already satisfied: datasets in /home/rogendo/.local/lib/python3.10/site-packages (2.15.0)\n",
      "Requirement already satisfied: huggingface-hub>=0.18.0 in /home/rogendo/.local/lib/python3.10/site-packages (from datasets) (0.19.4)\n",
      "Requirement already satisfied: pyarrow>=8.0.0 in /home/rogendo/.local/lib/python3.10/site-packages (from datasets) (14.0.1)\n",
      "Requirement already satisfied: aiohttp in /home/rogendo/.local/lib/python3.10/site-packages (from datasets) (3.9.1)\n",
      "Requirement already satisfied: dill<0.3.8,>=0.3.0 in /home/rogendo/.local/lib/python3.10/site-packages (from datasets) (0.3.7)\n",
      "Requirement already satisfied: requests>=2.19.0 in /home/rogendo/.local/lib/python3.10/site-packages (from datasets) (2.31.0)\n",
      "Requirement already satisfied: tqdm>=4.62.1 in /home/rogendo/.local/lib/python3.10/site-packages (from datasets) (4.66.1)\n",
      "Requirement already satisfied: pandas in /home/rogendo/.local/lib/python3.10/site-packages (from datasets) (2.1.3)\n",
      "Requirement already satisfied: fsspec[http]<=2023.10.0,>=2023.1.0 in /home/rogendo/.local/lib/python3.10/site-packages (from datasets) (2023.10.0)\n",
      "Requirement already satisfied: packaging in /home/rogendo/.local/lib/python3.10/site-packages (from datasets) (23.2)\n",
      "Requirement already satisfied: xxhash in /home/rogendo/.local/lib/python3.10/site-packages (from datasets) (3.4.1)\n",
      "Requirement already satisfied: multiprocess in /home/rogendo/.local/lib/python3.10/site-packages (from datasets) (0.70.15)\n",
      "Requirement already satisfied: pyyaml>=5.1 in /usr/lib/python3/dist-packages (from datasets) (5.4.1)\n",
      "Requirement already satisfied: numpy>=1.17 in /home/rogendo/.local/lib/python3.10/site-packages (from datasets) (1.26.2)\n",
      "Requirement already satisfied: pyarrow-hotfix in /home/rogendo/.local/lib/python3.10/site-packages (from datasets) (0.6)\n",
      "Requirement already satisfied: frozenlist>=1.1.1 in /home/rogendo/.local/lib/python3.10/site-packages (from aiohttp->datasets) (1.4.1)\n",
      "Requirement already satisfied: aiosignal>=1.1.2 in /home/rogendo/.local/lib/python3.10/site-packages (from aiohttp->datasets) (1.3.1)\n",
      "Requirement already satisfied: attrs>=17.3.0 in /home/rogendo/.local/lib/python3.10/site-packages (from aiohttp->datasets) (23.1.0)\n",
      "Requirement already satisfied: async-timeout<5.0,>=4.0 in /home/rogendo/.local/lib/python3.10/site-packages (from aiohttp->datasets) (4.0.3)\n",
      "Requirement already satisfied: yarl<2.0,>=1.0 in /home/rogendo/.local/lib/python3.10/site-packages (from aiohttp->datasets) (1.9.4)\n",
      "Requirement already satisfied: multidict<7.0,>=4.5 in /home/rogendo/.local/lib/python3.10/site-packages (from aiohttp->datasets) (6.0.4)\n",
      "Requirement already satisfied: typing-extensions>=3.7.4.3 in /home/rogendo/.local/lib/python3.10/site-packages (from huggingface-hub>=0.18.0->datasets) (4.8.0)\n",
      "Requirement already satisfied: filelock in /home/rogendo/.local/lib/python3.10/site-packages (from huggingface-hub>=0.18.0->datasets) (3.13.1)\n",
      "Requirement already satisfied: certifi>=2017.4.17 in /usr/lib/python3/dist-packages (from requests>=2.19.0->datasets) (2020.6.20)\n",
      "Requirement already satisfied: urllib3<3,>=1.21.1 in /usr/lib/python3/dist-packages (from requests>=2.19.0->datasets) (1.26.5)\n",
      "Requirement already satisfied: idna<4,>=2.5 in /usr/lib/python3/dist-packages (from requests>=2.19.0->datasets) (3.3)\n",
      "Requirement already satisfied: charset-normalizer<4,>=2 in /home/rogendo/.local/lib/python3.10/site-packages (from requests>=2.19.0->datasets) (3.3.2)\n",
      "Requirement already satisfied: pytz>=2020.1 in /usr/lib/python3/dist-packages (from pandas->datasets) (2022.1)\n",
      "Requirement already satisfied: tzdata>=2022.1 in /home/rogendo/.local/lib/python3.10/site-packages (from pandas->datasets) (2023.3)\n",
      "Requirement already satisfied: python-dateutil>=2.8.2 in /home/rogendo/.local/lib/python3.10/site-packages (from pandas->datasets) (2.8.2)\n",
      "Requirement already satisfied: six>=1.5 in /usr/lib/python3/dist-packages (from python-dateutil>=2.8.2->pandas->datasets) (1.16.0)\n",
      "Defaulting to user installation because normal site-packages is not writeable\n",
      "Requirement already satisfied: sentencepiece in /home/rogendo/.local/lib/python3.10/site-packages (0.1.99)\n",
      "Defaulting to user installation because normal site-packages is not writeable\n",
      "Requirement already satisfied: transformers[torch] in /home/rogendo/.local/lib/python3.10/site-packages (4.35.2)\n",
      "Requirement already satisfied: pyyaml>=5.1 in /usr/lib/python3/dist-packages (from transformers[torch]) (5.4.1)\n",
      "Requirement already satisfied: filelock in /home/rogendo/.local/lib/python3.10/site-packages (from transformers[torch]) (3.13.1)\n",
      "Requirement already satisfied: requests in /home/rogendo/.local/lib/python3.10/site-packages (from transformers[torch]) (2.31.0)\n",
      "Requirement already satisfied: regex!=2019.12.17 in /home/rogendo/.local/lib/python3.10/site-packages (from transformers[torch]) (2023.10.3)\n",
      "Requirement already satisfied: huggingface-hub<1.0,>=0.16.4 in /home/rogendo/.local/lib/python3.10/site-packages (from transformers[torch]) (0.19.4)\n",
      "Requirement already satisfied: safetensors>=0.3.1 in /home/rogendo/.local/lib/python3.10/site-packages (from transformers[torch]) (0.4.1)\n",
      "Requirement already satisfied: tqdm>=4.27 in /home/rogendo/.local/lib/python3.10/site-packages (from transformers[torch]) (4.66.1)\n",
      "Requirement already satisfied: packaging>=20.0 in /home/rogendo/.local/lib/python3.10/site-packages (from transformers[torch]) (23.2)\n",
      "Requirement already satisfied: numpy>=1.17 in /home/rogendo/.local/lib/python3.10/site-packages (from transformers[torch]) (1.26.2)\n",
      "Requirement already satisfied: tokenizers<0.19,>=0.14 in /home/rogendo/.local/lib/python3.10/site-packages (from transformers[torch]) (0.15.0)\n",
      "Requirement already satisfied: accelerate>=0.20.3 in /home/rogendo/.local/lib/python3.10/site-packages (from transformers[torch]) (0.25.0)\n",
      "Requirement already satisfied: torch!=1.12.0,>=1.10 in /home/rogendo/.local/lib/python3.10/site-packages (from transformers[torch]) (2.1.1)\n",
      "Requirement already satisfied: psutil in /home/rogendo/.local/lib/python3.10/site-packages (from accelerate>=0.20.3->transformers[torch]) (5.9.6)\n",
      "Requirement already satisfied: typing-extensions>=3.7.4.3 in /home/rogendo/.local/lib/python3.10/site-packages (from huggingface-hub<1.0,>=0.16.4->transformers[torch]) (4.8.0)\n",
      "Requirement already satisfied: fsspec>=2023.5.0 in /home/rogendo/.local/lib/python3.10/site-packages (from huggingface-hub<1.0,>=0.16.4->transformers[torch]) (2023.10.0)\n",
      "Requirement already satisfied: triton==2.1.0 in /home/rogendo/.local/lib/python3.10/site-packages (from torch!=1.12.0,>=1.10->transformers[torch]) (2.1.0)\n",
      "Requirement already satisfied: nvidia-nccl-cu12==2.18.1 in /home/rogendo/.local/lib/python3.10/site-packages (from torch!=1.12.0,>=1.10->transformers[torch]) (2.18.1)\n",
      "Requirement already satisfied: nvidia-curand-cu12==10.3.2.106 in /home/rogendo/.local/lib/python3.10/site-packages (from torch!=1.12.0,>=1.10->transformers[torch]) (10.3.2.106)\n",
      "Requirement already satisfied: networkx in /home/rogendo/.local/lib/python3.10/site-packages (from torch!=1.12.0,>=1.10->transformers[torch]) (3.2.1)\n",
      "Requirement already satisfied: nvidia-cusparse-cu12==12.1.0.106 in /home/rogendo/.local/lib/python3.10/site-packages (from torch!=1.12.0,>=1.10->transformers[torch]) (12.1.0.106)\n",
      "Requirement already satisfied: nvidia-nvtx-cu12==12.1.105 in /home/rogendo/.local/lib/python3.10/site-packages (from torch!=1.12.0,>=1.10->transformers[torch]) (12.1.105)\n",
      "Requirement already satisfied: nvidia-cuda-runtime-cu12==12.1.105 in /home/rogendo/.local/lib/python3.10/site-packages (from torch!=1.12.0,>=1.10->transformers[torch]) (12.1.105)\n",
      "Requirement already satisfied: nvidia-cuda-cupti-cu12==12.1.105 in /home/rogendo/.local/lib/python3.10/site-packages (from torch!=1.12.0,>=1.10->transformers[torch]) (12.1.105)\n",
      "Requirement already satisfied: jinja2 in /home/rogendo/.local/lib/python3.10/site-packages (from torch!=1.12.0,>=1.10->transformers[torch]) (3.1.2)\n",
      "Requirement already satisfied: nvidia-cudnn-cu12==8.9.2.26 in /home/rogendo/.local/lib/python3.10/site-packages (from torch!=1.12.0,>=1.10->transformers[torch]) (8.9.2.26)\n",
      "Requirement already satisfied: nvidia-cublas-cu12==12.1.3.1 in /home/rogendo/.local/lib/python3.10/site-packages (from torch!=1.12.0,>=1.10->transformers[torch]) (12.1.3.1)\n",
      "Requirement already satisfied: nvidia-cufft-cu12==11.0.2.54 in /home/rogendo/.local/lib/python3.10/site-packages (from torch!=1.12.0,>=1.10->transformers[torch]) (11.0.2.54)\n",
      "Requirement already satisfied: nvidia-cuda-nvrtc-cu12==12.1.105 in /home/rogendo/.local/lib/python3.10/site-packages (from torch!=1.12.0,>=1.10->transformers[torch]) (12.1.105)\n",
      "Requirement already satisfied: sympy in /home/rogendo/.local/lib/python3.10/site-packages (from torch!=1.12.0,>=1.10->transformers[torch]) (1.12)\n",
      "Requirement already satisfied: nvidia-cusolver-cu12==11.4.5.107 in /home/rogendo/.local/lib/python3.10/site-packages (from torch!=1.12.0,>=1.10->transformers[torch]) (11.4.5.107)\n",
      "Requirement already satisfied: nvidia-nvjitlink-cu12 in /home/rogendo/.local/lib/python3.10/site-packages (from nvidia-cusolver-cu12==11.4.5.107->torch!=1.12.0,>=1.10->transformers[torch]) (12.3.101)\n",
      "Requirement already satisfied: idna<4,>=2.5 in /usr/lib/python3/dist-packages (from requests->transformers[torch]) (3.3)\n",
      "Requirement already satisfied: certifi>=2017.4.17 in /usr/lib/python3/dist-packages (from requests->transformers[torch]) (2020.6.20)\n",
      "Requirement already satisfied: urllib3<3,>=1.21.1 in /usr/lib/python3/dist-packages (from requests->transformers[torch]) (1.26.5)\n",
      "Requirement already satisfied: charset-normalizer<4,>=2 in /home/rogendo/.local/lib/python3.10/site-packages (from requests->transformers[torch]) (3.3.2)\n",
      "Requirement already satisfied: MarkupSafe>=2.0 in /home/rogendo/.local/lib/python3.10/site-packages (from jinja2->torch!=1.12.0,>=1.10->transformers[torch]) (2.1.3)\n",
      "Requirement already satisfied: mpmath>=0.19 in /home/rogendo/.local/lib/python3.10/site-packages (from sympy->torch!=1.12.0,>=1.10->transformers[torch]) (1.3.0)\n",
      "Defaulting to user installation because normal site-packages is not writeable\n",
      "Requirement already satisfied: accelerate in /home/rogendo/.local/lib/python3.10/site-packages (0.25.0)\n",
      "Requirement already satisfied: numpy>=1.17 in /home/rogendo/.local/lib/python3.10/site-packages (from accelerate) (1.26.2)\n",
      "Requirement already satisfied: psutil in /home/rogendo/.local/lib/python3.10/site-packages (from accelerate) (5.9.6)\n",
      "Requirement already satisfied: pyyaml in /usr/lib/python3/dist-packages (from accelerate) (5.4.1)\n",
      "Requirement already satisfied: huggingface-hub in /home/rogendo/.local/lib/python3.10/site-packages (from accelerate) (0.19.4)\n",
      "Requirement already satisfied: safetensors>=0.3.1 in /home/rogendo/.local/lib/python3.10/site-packages (from accelerate) (0.4.1)\n",
      "Requirement already satisfied: torch>=1.10.0 in /home/rogendo/.local/lib/python3.10/site-packages (from accelerate) (2.1.1)\n",
      "Requirement already satisfied: packaging>=20.0 in /home/rogendo/.local/lib/python3.10/site-packages (from accelerate) (23.2)\n",
      "Requirement already satisfied: nvidia-cuda-cupti-cu12==12.1.105 in /home/rogendo/.local/lib/python3.10/site-packages (from torch>=1.10.0->accelerate) (12.1.105)\n",
      "Requirement already satisfied: typing-extensions in /home/rogendo/.local/lib/python3.10/site-packages (from torch>=1.10.0->accelerate) (4.8.0)\n",
      "Requirement already satisfied: fsspec in /home/rogendo/.local/lib/python3.10/site-packages (from torch>=1.10.0->accelerate) (2023.10.0)\n",
      "Requirement already satisfied: nvidia-cudnn-cu12==8.9.2.26 in /home/rogendo/.local/lib/python3.10/site-packages (from torch>=1.10.0->accelerate) (8.9.2.26)\n",
      "Requirement already satisfied: nvidia-cusolver-cu12==11.4.5.107 in /home/rogendo/.local/lib/python3.10/site-packages (from torch>=1.10.0->accelerate) (11.4.5.107)\n",
      "Requirement already satisfied: nvidia-cuda-runtime-cu12==12.1.105 in /home/rogendo/.local/lib/python3.10/site-packages (from torch>=1.10.0->accelerate) (12.1.105)\n",
      "Requirement already satisfied: nvidia-cusparse-cu12==12.1.0.106 in /home/rogendo/.local/lib/python3.10/site-packages (from torch>=1.10.0->accelerate) (12.1.0.106)\n",
      "Requirement already satisfied: triton==2.1.0 in /home/rogendo/.local/lib/python3.10/site-packages (from torch>=1.10.0->accelerate) (2.1.0)\n",
      "Requirement already satisfied: filelock in /home/rogendo/.local/lib/python3.10/site-packages (from torch>=1.10.0->accelerate) (3.13.1)\n",
      "Requirement already satisfied: nvidia-curand-cu12==10.3.2.106 in /home/rogendo/.local/lib/python3.10/site-packages (from torch>=1.10.0->accelerate) (10.3.2.106)\n",
      "Requirement already satisfied: nvidia-cufft-cu12==11.0.2.54 in /home/rogendo/.local/lib/python3.10/site-packages (from torch>=1.10.0->accelerate) (11.0.2.54)\n",
      "Requirement already satisfied: nvidia-nvtx-cu12==12.1.105 in /home/rogendo/.local/lib/python3.10/site-packages (from torch>=1.10.0->accelerate) (12.1.105)\n",
      "Requirement already satisfied: nvidia-nccl-cu12==2.18.1 in /home/rogendo/.local/lib/python3.10/site-packages (from torch>=1.10.0->accelerate) (2.18.1)\n",
      "Requirement already satisfied: sympy in /home/rogendo/.local/lib/python3.10/site-packages (from torch>=1.10.0->accelerate) (1.12)\n",
      "Requirement already satisfied: networkx in /home/rogendo/.local/lib/python3.10/site-packages (from torch>=1.10.0->accelerate) (3.2.1)\n",
      "Requirement already satisfied: nvidia-cuda-nvrtc-cu12==12.1.105 in /home/rogendo/.local/lib/python3.10/site-packages (from torch>=1.10.0->accelerate) (12.1.105)\n",
      "Requirement already satisfied: jinja2 in /home/rogendo/.local/lib/python3.10/site-packages (from torch>=1.10.0->accelerate) (3.1.2)\n",
      "Requirement already satisfied: nvidia-cublas-cu12==12.1.3.1 in /home/rogendo/.local/lib/python3.10/site-packages (from torch>=1.10.0->accelerate) (12.1.3.1)\n",
      "Requirement already satisfied: nvidia-nvjitlink-cu12 in /home/rogendo/.local/lib/python3.10/site-packages (from nvidia-cusolver-cu12==11.4.5.107->torch>=1.10.0->accelerate) (12.3.101)\n",
      "Requirement already satisfied: requests in /home/rogendo/.local/lib/python3.10/site-packages (from huggingface-hub->accelerate) (2.31.0)\n",
      "Requirement already satisfied: tqdm>=4.42.1 in /home/rogendo/.local/lib/python3.10/site-packages (from huggingface-hub->accelerate) (4.66.1)\n",
      "Requirement already satisfied: MarkupSafe>=2.0 in /home/rogendo/.local/lib/python3.10/site-packages (from jinja2->torch>=1.10.0->accelerate) (2.1.3)\n",
      "Requirement already satisfied: idna<4,>=2.5 in /usr/lib/python3/dist-packages (from requests->huggingface-hub->accelerate) (3.3)\n",
      "Requirement already satisfied: certifi>=2017.4.17 in /usr/lib/python3/dist-packages (from requests->huggingface-hub->accelerate) (2020.6.20)\n",
      "Requirement already satisfied: charset-normalizer<4,>=2 in /home/rogendo/.local/lib/python3.10/site-packages (from requests->huggingface-hub->accelerate) (3.3.2)\n",
      "Requirement already satisfied: urllib3<3,>=1.21.1 in /usr/lib/python3/dist-packages (from requests->huggingface-hub->accelerate) (1.26.5)\n",
      "Requirement already satisfied: mpmath>=0.19 in /home/rogendo/.local/lib/python3.10/site-packages (from sympy->torch>=1.10.0->accelerate) (1.3.0)\n"
     ]
    }
   ],
   "source": [
    "!pip install transformers\n",
    "!pip install datasets\n",
    "!pip install sentencepiece\n",
    "!pip install transformers[torch]\n",
    "!pip install accelerate -U"
   ]
  },
  {
   "cell_type": "code",
   "execution_count": null,
   "metadata": {},
   "outputs": [],
   "source": [
    "import matplotlib.pyplot as plt\n",
    "from datasets import load_dataset\n",
    "from transformers import pipeline, AutoTokenizer, AutoModelForSeq2SeqLM, Seq2SeqTrainingArguments, Seq2SeqTrainer\n",
    "import sentencepiece\n",
    "import warnings\n",
    "warnings.filterwarnings(\"ignore\")"
   ]
  },
  {
   "cell_type": "markdown",
   "metadata": {},
   "source": [
    "### 1.1 loading the dataset"
   ]
  },
  {
   "cell_type": "markdown",
   "metadata": {},
   "source": []
  },
  {
   "cell_type": "code",
   "execution_count": null,
   "metadata": {},
   "outputs": [],
   "source": [
    "# loading the csv dataset\n",
    "df = load_dataset(\"csv\", data_files=\"../incorrect_translations/translations.csv\")"
   ]
  },
  {
   "cell_type": "markdown",
   "metadata": {},
   "source": [
    "### 1.2 viewing the dataset"
   ]
  },
  {
   "cell_type": "code",
   "execution_count": null,
   "metadata": {},
   "outputs": [
    {
     "name": "stdout",
     "output_type": "stream",
     "text": [
      "Dataset object:\n",
      "\n",
      " DatasetDict({\n",
      "    train: Dataset({\n",
      "        features: ['User Input', 'Translated Text', 'Correct Translation'],\n",
      "        num_rows: 5\n",
      "    })\n",
      "})\n"
     ]
    }
   ],
   "source": [
    "print(\"Dataset object:\\n\\n\", df)"
   ]
  },
  {
   "cell_type": "markdown",
   "metadata": {},
   "source": []
  },
  {
   "cell_type": "markdown",
   "metadata": {},
   "source": [
    "### 1.3 Drop the unnecessary column"
   ]
  },
  {
   "cell_type": "code",
   "execution_count": null,
   "metadata": {},
   "outputs": [],
   "source": [
    "# drop the 'Translated Text' column\n",
    "\n",
    "df = df.remove_columns('Translated Text')\n"
   ]
  },
  {
   "cell_type": "code",
   "execution_count": null,
   "metadata": {},
   "outputs": [
    {
     "name": "stdout",
     "output_type": "stream",
     "text": [
      "TRain dataset information: \n",
      "\n",
      " {'User Input': Value(dtype='string', id=None), 'Correct Translation': Value(dtype='string', id=None)}\n"
     ]
    }
   ],
   "source": [
    "train_dataset = df['train']\n",
    "print(\"TRain dataset information: \\n\\n\", train_dataset.features)"
   ]
  },
  {
   "cell_type": "code",
   "execution_count": null,
   "metadata": {},
   "outputs": [],
   "source": []
  }
 ],
 "metadata": {
  "kernelspec": {
   "display_name": "Python 3",
   "language": "python",
   "name": "python3"
  },
  "language_info": {
   "codemirror_mode": {
    "name": "ipython",
    "version": 3
   },
   "file_extension": ".py",
   "mimetype": "text/x-python",
   "name": "python",
   "nbconvert_exporter": "python",
   "pygments_lexer": "ipython3",
   "version": "3.10.12"
  }
 },
 "nbformat": 4,
 "nbformat_minor": 2
}
