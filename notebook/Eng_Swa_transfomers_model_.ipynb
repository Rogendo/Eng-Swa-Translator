{
  "cells": [
    {
      "cell_type": "code",
      "execution_count": null,
      "metadata": {
        "id": "w6PvPjeGzepz"
      },
      "outputs": [],
      "source": [
        "# !wget https://object.pouta.csc.fi/Tatoeba-Challenge-v2021-08-07/eng-swa.tar\n",
        "# !tar -xvf eng-swa.tar\n",
        "# !pip install datasets\n",
        "# from datasets import load_dataset\n",
        "\n",
        "# swa_dataset = load_dataset(\"swahili_news\")\n",
        "# eng_dataset=load_dataset(\"english_news\")\n",
        "# for i in range(5):\n",
        "#   print(dataset[\"train\"][\"text\"][i])\n"
      ]
    },
    {
      "cell_type": "code",
      "execution_count": 1,
      "metadata": {
        "id": "56_sF-PSoSkX"
      },
      "outputs": [],
      "source": [
        "\n",
        "import numpy as np # linear algebra\n",
        "import pandas as pd # data processing, CSV file I/O (e.g. pd.read_csv)"
      ]
    },
    {
      "cell_type": "code",
      "execution_count": 2,
      "metadata": {
        "colab": {
          "base_uri": "https://localhost:8080/",
          "height": 245
        },
        "id": "5liHa5A7m-xf",
        "outputId": "6bef4893-582c-4ee1-eced-2b3d685d6128"
      },
      "outputs": [
        {
          "name": "stdout",
          "output_type": "stream",
          "text": [
            "Translation pairs separated and saved to files.\n"
          ]
        }
      ],
      "source": [
        "# separate translation pairs from a CSV file into two separate files with the translation sentence pairs\n",
        "import csv\n",
        "\n",
        "# Input CSV file and output file paths\n",
        "input_csv_file = '../Downloads/datasets/enswdataset.csv'\n",
        "output_english_file = '../Downloads/datasets/eng.txt'\n",
        "output_swahili_file = '../Downloads/datasets/swa.txt'\n",
        "\n",
        "# Open the CSV file for reading with the correct encoding\n",
        "with open(input_csv_file, 'r', newline='', encoding='utf-8') as csv_file:\n",
        "    reader = csv.reader(csv_file)\n",
        "\n",
        "    # Open the output files for writing with UTF-8 encoding\n",
        "    with open(output_english_file, 'w', encoding='utf-8') as english_output_file, open(output_swahili_file, 'w', encoding='utf-8') as swahili_output_file:\n",
        "        for row in reader:\n",
        "            if len(row) >= 2:\n",
        "                english_sentence = row[0]\n",
        "                swahili_sentence = row[1]\n",
        "\n",
        "                # Write the sentences to the respective output files\n",
        "                english_output_file.write(english_sentence + '\\n')\n",
        "                swahili_output_file.write(swahili_sentence + '\\n')\n",
        "\n",
        "# Close the output files\n",
        "english_output_file.close()\n",
        "swahili_output_file.close()\n",
        "\n",
        "print(\"Translation pairs separated and saved to files.\")"
      ]
    },
    {
      "cell_type": "code",
      "execution_count": 3,
      "metadata": {
        "id": "umEKHqAVrNP6"
      },
      "outputs": [],
      "source": [
        "import re\n",
        "import random\n",
        "data_path = \"../Downloads/datasets/eng.txt\"\n",
        "data_path2 = \"../Downloads/datasets/swa.txt\"\n",
        "# Defining lines as a list of each line\n",
        "with open(data_path, 'r', encoding='utf-8') as f:\n",
        "  lines = f.read().strip().split('\\n')\n",
        "with open(data_path2, 'r', encoding='utf-8') as f:\n",
        "  lines2 = f.read().strip().split('\\n')\n",
        "\n",
        "lines = [\" \".join(re.findall(r\"[A-Za-z0-9]+\",line)) for line in lines]\n",
        "lines2 = [\" \".join(re.findall(r\"[A-Za-z0-9]+\",line)) for line in lines2]"
      ]
    },
    {
      "cell_type": "code",
      "execution_count": 4,
      "metadata": {
        "colab": {
          "base_uri": "https://localhost:8080/"
        },
        "id": "A0fA1rKUri7N",
        "outputId": "4afc2ee4-b4cf-4484-d2fc-42def1746a6e"
      },
      "outputs": [
        {
          "name": "stdout",
          "output_type": "stream",
          "text": [
            "8538\n"
          ]
        }
      ],
      "source": [
        "# Grouping lines by response pair\n",
        "pairs = list(zip(lines,lines2))\n",
        "# pairs = pairs[:3000]\n",
        "random.shuffle(pairs)\n",
        "print(len(pairs))"
      ]
    },
    {
      "cell_type": "code",
      "execution_count": 5,
      "metadata": {
        "colab": {
          "base_uri": "https://localhost:8080/"
        },
        "id": "PeOHw0VGrnmK",
        "outputId": "80f6689a-d94f-4eb3-a876-215144803f31"
      },
      "outputs": [
        {
          "name": "stdout",
          "output_type": "stream",
          "text": [
            "('He worked as a Software Engineer for five years', 'Alifanya kazi kama mhandisi wa programu kwa miaka mitano')\n"
          ]
        }
      ],
      "source": [
        "print(pairs[6473])"
      ]
    },
    {
      "cell_type": "markdown",
      "metadata": {
        "id": "Z3CLyBNCkQbo"
      },
      "source": [
        "# printing random pairs\n"
      ]
    },
    {
      "cell_type": "code",
      "execution_count": 6,
      "metadata": {
        "colab": {
          "base_uri": "https://localhost:8080/"
        },
        "id": "KT0m1oeerpcR",
        "outputId": "9e0ec1d5-655c-4330-f997-dd9b1efbbed4"
      },
      "outputs": [
        {
          "name": "stdout",
          "output_type": "stream",
          "text": [
            "('Her party dress was red in colour', 'Mavazi yake ya sherehe yalikuwa nyekundu kwa rangi')\n"
          ]
        }
      ],
      "source": [
        "import random\n",
        "print(random.choice(pairs))"
      ]
    },
    {
      "cell_type": "code",
      "execution_count": 7,
      "metadata": {
        "id": "Qo0XI2nvrrOW"
      },
      "outputs": [],
      "source": [
        "import random\n",
        "random.shuffle(pairs)\n",
        "num_val_samples = int(0.15 * len(pairs))\n",
        "num_train_samples = len(pairs) - 2 * num_val_samples\n",
        "train_pairs = pairs[:num_train_samples]\n",
        "val_pairs = pairs[num_train_samples:num_train_samples + num_val_samples]\n",
        "test_pairs =pairs[num_train_samples + num_val_samples:]\n"
      ]
    },
    {
      "cell_type": "markdown",
      "metadata": {
        "id": "PTbgK8YOkOjX"
      },
      "source": [
        "# Vectorizing the English and Swahili text pairs\n"
      ]
    },
    {
      "cell_type": "code",
      "execution_count": 8,
      "metadata": {
        "id": "9Xsm8n-SsilU"
      },
      "outputs": [
        {
          "name": "stderr",
          "output_type": "stream",
          "text": [
            "2023-12-11 10:42:57.438340: E external/local_xla/xla/stream_executor/cuda/cuda_dnn.cc:9261] Unable to register cuDNN factory: Attempting to register factory for plugin cuDNN when one has already been registered\n",
            "2023-12-11 10:42:57.438455: E external/local_xla/xla/stream_executor/cuda/cuda_fft.cc:607] Unable to register cuFFT factory: Attempting to register factory for plugin cuFFT when one has already been registered\n",
            "2023-12-11 10:42:57.561836: E external/local_xla/xla/stream_executor/cuda/cuda_blas.cc:1515] Unable to register cuBLAS factory: Attempting to register factory for plugin cuBLAS when one has already been registered\n",
            "2023-12-11 10:42:57.825501: I tensorflow/core/platform/cpu_feature_guard.cc:182] This TensorFlow binary is optimized to use available CPU instructions in performance-critical operations.\n",
            "To enable the following instructions: AVX2 FMA, in other operations, rebuild TensorFlow with the appropriate compiler flags.\n",
            "2023-12-11 10:43:04.101095: W tensorflow/compiler/tf2tensorrt/utils/py_utils.cc:38] TF-TRT Warning: Could not find TensorRT\n"
          ]
        }
      ],
      "source": [
        "\n",
        "import tensorflow as tf\n",
        "import string\n",
        "import re\n",
        "from tensorflow import keras\n",
        "from tensorflow.keras import layers\n",
        "\n",
        "strip_chars = string.punctuation + \"¿\"\n",
        "strip_chars = strip_chars.replace(\"[\", \"\")\n",
        "strip_chars = strip_chars.replace(\"]\", \"\")\n",
        "\n",
        "def custom_standardization(input_string):\n",
        "    lowercase = tf.strings.lower(input_string)\n",
        "    return tf.strings.regex_replace(\n",
        "        lowercase, f\"[{re.escape(strip_chars)}]\", \"\")\n",
        "\n",
        "vocab_size = 15000\n",
        "sequence_length = 20\n",
        "\n",
        "source_vectorization = layers.TextVectorization(\n",
        "    max_tokens=vocab_size,\n",
        "    output_mode=\"int\",\n",
        "    output_sequence_length=sequence_length,\n",
        ")\n",
        "target_vectorization = layers.TextVectorization(\n",
        "    max_tokens=vocab_size,\n",
        "    output_mode=\"int\",\n",
        "    output_sequence_length=sequence_length + 1,\n",
        "    standardize=custom_standardization,\n",
        ")\n",
        "train_english_texts = [pair[0] for pair in train_pairs]\n",
        "train_swahili_texts = [pair[1] for pair in train_pairs]\n",
        "source_vectorization.adapt(train_english_texts)\n",
        "target_vectorization.adapt(train_swahili_texts)\n"
      ]
    },
    {
      "cell_type": "markdown",
      "metadata": {
        "id": "z5NmAF4PkMvD"
      },
      "source": [
        "# Preparing datasets for the translation task\n"
      ]
    },
    {
      "cell_type": "code",
      "execution_count": 9,
      "metadata": {
        "id": "dHnvTvEHsnV3"
      },
      "outputs": [],
      "source": [
        "\n",
        "batch_size = 512\n",
        "\n",
        "def format_dataset(eng, swa):\n",
        "    eng = source_vectorization(eng)\n",
        "    swa = target_vectorization(swa)\n",
        "    return ({\n",
        "        \"english\": eng,\n",
        "        \"swahili\": swa[:, :-1],\n",
        "    }, swa[:, 1:])\n",
        "\n",
        "def make_dataset(pairs):\n",
        "    eng_texts, swa_texts = zip(*pairs)\n",
        "    eng_texts = list(eng_texts)\n",
        "    swa_texts = list(swa_texts)\n",
        "    dataset = tf.data.Dataset.from_tensor_slices((eng_texts, swa_texts))\n",
        "    dataset = dataset.batch(batch_size)\n",
        "    dataset = dataset.map(format_dataset, num_parallel_calls=4)\n",
        "    return dataset.shuffle(2048).prefetch(16).cache()\n",
        "\n",
        "train_ds = make_dataset(train_pairs)\n",
        "val_ds = make_dataset(val_pairs)"
      ]
    },
    {
      "cell_type": "code",
      "execution_count": 10,
      "metadata": {
        "colab": {
          "base_uri": "https://localhost:8080/"
        },
        "id": "ORndD9KstTVC",
        "outputId": "4cb79c2c-975a-4fea-82f1-bb025a0de4c0"
      },
      "outputs": [
        {
          "name": "stdout",
          "output_type": "stream",
          "text": [
            "inputs['english'].shape: (346, 20)\n",
            "inputs['swahili'].shape: (346, 20)\n",
            "targets.shape: (346, 20)\n"
          ]
        },
        {
          "name": "stderr",
          "output_type": "stream",
          "text": [
            "2023-12-11 10:43:09.423352: W tensorflow/core/kernels/data/cache_dataset_ops.cc:858] The calling iterator did not fully read the dataset being cached. In order to avoid unexpected truncation of the dataset, the partially cached contents of the dataset  will be discarded. This can happen if you have an input pipeline similar to `dataset.cache().take(k).repeat()`. You should use `dataset.take(k).cache().repeat()` instead.\n"
          ]
        }
      ],
      "source": [
        "for inputs, targets in train_ds.take(1):\n",
        "    print(f\"inputs['english'].shape: {inputs['english'].shape}\")\n",
        "    print(f\"inputs['swahili'].shape: {inputs['swahili'].shape}\")\n",
        "    print(f\"targets.shape: {targets.shape}\")"
      ]
    },
    {
      "cell_type": "markdown",
      "metadata": {
        "id": "vWUpopb5kJXL"
      },
      "source": [
        "# Sequence-to-sequence learning with RNNs\n",
        " GRU-based encoder"
      ]
    },
    {
      "cell_type": "code",
      "execution_count": 11,
      "metadata": {
        "id": "toAadkmBtbBE"
      },
      "outputs": [],
      "source": [
        "# Sequence-to-sequence learning with RNNs\n",
        "# GRU-based encoder\n",
        "\n",
        "from tensorflow import keras\n",
        "from tensorflow.keras import layers\n",
        "\n",
        "embed_dim = 256\n",
        "latent_dim = 1024\n",
        "\n",
        "source = keras.Input(shape=(None,), dtype=\"int64\", name=\"english\")\n",
        "x = layers.Embedding(vocab_size, embed_dim, mask_zero=True)(source)\n",
        "encoded_source = layers.Bidirectional(\n",
        "    layers.GRU(latent_dim), merge_mode=\"sum\")(x)"
      ]
    },
    {
      "cell_type": "markdown",
      "metadata": {
        "id": "v8fSxXcwkF7C"
      },
      "source": [
        "# GRU-based decoder and the end-to-end model\n"
      ]
    },
    {
      "cell_type": "code",
      "execution_count": 12,
      "metadata": {
        "id": "9a2w9dIythxn"
      },
      "outputs": [],
      "source": [
        "\n",
        "past_target = keras.Input(shape=(None,), dtype=\"int64\", name=\"swahili\")\n",
        "x = layers.Embedding(vocab_size, embed_dim, mask_zero=True)(past_target)\n",
        "decoder_gru = layers.GRU(latent_dim, return_sequences=True)\n",
        "x = decoder_gru(x, initial_state=encoded_source)\n",
        "x = layers.Dropout(0.5)(x)\n",
        "target_next_step = layers.Dense(vocab_size, activation=\"softmax\")(x)\n",
        "seq2seq_rnn = keras.Model([source, past_target], target_next_step)"
      ]
    },
    {
      "cell_type": "markdown",
      "metadata": {
        "id": "1LV6_bBvkDtN"
      },
      "source": [
        "# Training our recurrent sequence-to-sequence model\n"
      ]
    },
    {
      "cell_type": "code",
      "execution_count": null,
      "metadata": {
        "colab": {
          "base_uri": "https://localhost:8080/"
        },
        "id": "N7mxPnpEtl9M",
        "outputId": "48d5d213-10d7-491c-a639-754d2b62e84c"
      },
      "outputs": [
        {
          "name": "stdout",
          "output_type": "stream",
          "text": [
            "Epoch 1/50\n",
            "314/314 [==============================] - 151s 417ms/step - loss: 6.2536 - accuracy: 0.1856 - val_loss: 5.7300 - val_accuracy: 0.2081\n",
            "Epoch 2/50\n",
            "314/314 [==============================] - 125s 398ms/step - loss: 5.6503 - accuracy: 0.2151 - val_loss: 5.3780 - val_accuracy: 0.2392\n",
            "Epoch 3/50\n",
            "314/314 [==============================] - 126s 402ms/step - loss: 5.3383 - accuracy: 0.2400 - val_loss: 5.1057 - val_accuracy: 0.2596\n",
            "Epoch 4/50\n",
            "314/314 [==============================] - 127s 404ms/step - loss: 5.0646 - accuracy: 0.2620 - val_loss: 4.8463 - val_accuracy: 0.2799\n",
            "Epoch 5/50\n",
            "314/314 [==============================] - 127s 404ms/step - loss: 4.8151 - accuracy: 0.2837 - val_loss: 4.6055 - val_accuracy: 0.3044\n",
            "Epoch 6/50\n",
            "314/314 [==============================] - 127s 404ms/step - loss: 4.5946 - accuracy: 0.3036 - val_loss: 4.4239 - val_accuracy: 0.3212\n",
            "Epoch 7/50\n",
            "314/314 [==============================] - 127s 404ms/step - loss: 4.3889 - accuracy: 0.3228 - val_loss: 4.2362 - val_accuracy: 0.3417\n",
            "Epoch 8/50\n",
            "314/314 [==============================] - 126s 402ms/step - loss: 4.2014 - accuracy: 0.3399 - val_loss: 4.0531 - val_accuracy: 0.3655\n",
            "Epoch 9/50\n",
            "314/314 [==============================] - 127s 403ms/step - loss: 4.0228 - accuracy: 0.3569 - val_loss: 3.8993 - val_accuracy: 0.3827\n",
            "Epoch 10/50\n",
            "314/314 [==============================] - 137s 435ms/step - loss: 3.8551 - accuracy: 0.3738 - val_loss: 3.7563 - val_accuracy: 0.3974\n",
            "Epoch 11/50\n",
            "314/314 [==============================] - 127s 403ms/step - loss: 3.6933 - accuracy: 0.3907 - val_loss: 3.6463 - val_accuracy: 0.4092\n",
            "Epoch 12/50\n",
            "314/314 [==============================] - 127s 404ms/step - loss: 3.5386 - accuracy: 0.4074 - val_loss: 3.4987 - val_accuracy: 0.4323\n",
            "Epoch 13/50\n",
            "314/314 [==============================] - 127s 405ms/step - loss: 3.4020 - accuracy: 0.4230 - val_loss: 3.3870 - val_accuracy: 0.4475\n",
            "Epoch 14/50\n",
            "314/314 [==============================] - 127s 404ms/step - loss: 3.2564 - accuracy: 0.4396 - val_loss: 3.3175 - val_accuracy: 0.4526\n",
            "Epoch 15/50\n",
            "314/314 [==============================] - 127s 405ms/step - loss: 3.1292 - accuracy: 0.4545 - val_loss: 3.2020 - val_accuracy: 0.4737\n",
            "Epoch 16/50\n",
            "314/314 [==============================] - 127s 403ms/step - loss: 3.0070 - accuracy: 0.4699 - val_loss: 3.1224 - val_accuracy: 0.4844\n",
            "Epoch 17/50\n",
            "314/314 [==============================] - 127s 404ms/step - loss: 2.8973 - accuracy: 0.4829 - val_loss: 3.0539 - val_accuracy: 0.4939\n",
            "Epoch 18/50\n",
            "314/314 [==============================] - 127s 405ms/step - loss: 2.7824 - accuracy: 0.4972 - val_loss: 2.9841 - val_accuracy: 0.5062\n",
            "Epoch 19/50\n",
            "314/314 [==============================] - 127s 403ms/step - loss: 2.6838 - accuracy: 0.5097 - val_loss: 2.9301 - val_accuracy: 0.5115\n",
            "Epoch 20/50\n",
            "314/314 [==============================] - 127s 404ms/step - loss: 2.5814 - accuracy: 0.5228 - val_loss: 2.8745 - val_accuracy: 0.5213\n",
            "Epoch 21/50\n",
            "314/314 [==============================] - 126s 402ms/step - loss: 2.4885 - accuracy: 0.5352 - val_loss: 2.8306 - val_accuracy: 0.5279\n",
            "Epoch 22/50\n",
            "314/314 [==============================] - 127s 404ms/step - loss: 2.4124 - accuracy: 0.5452 - val_loss: 2.7925 - val_accuracy: 0.5343\n",
            "Epoch 23/50\n",
            "314/314 [==============================] - 127s 404ms/step - loss: 2.3141 - accuracy: 0.5583 - val_loss: 2.7650 - val_accuracy: 0.5383\n",
            "Epoch 24/50\n",
            "314/314 [==============================] - 126s 402ms/step - loss: 2.2332 - accuracy: 0.5693 - val_loss: 2.7277 - val_accuracy: 0.5458\n",
            "Epoch 25/50\n",
            "314/314 [==============================] - 127s 404ms/step - loss: 2.1541 - accuracy: 0.5798 - val_loss: 2.7064 - val_accuracy: 0.5490\n",
            "Epoch 26/50\n",
            "314/314 [==============================] - 126s 402ms/step - loss: 2.0795 - accuracy: 0.5905 - val_loss: 2.6771 - val_accuracy: 0.5536\n",
            "Epoch 27/50\n",
            "314/314 [==============================] - 137s 436ms/step - loss: 2.0094 - accuracy: 0.5996 - val_loss: 2.6596 - val_accuracy: 0.5572\n",
            "Epoch 28/50\n",
            "314/314 [==============================] - 127s 403ms/step - loss: 1.9381 - accuracy: 0.6098 - val_loss: 2.6455 - val_accuracy: 0.5605\n",
            "Epoch 29/50\n",
            "314/314 [==============================] - 127s 405ms/step - loss: 1.8711 - accuracy: 0.6189 - val_loss: 2.6589 - val_accuracy: 0.5604\n",
            "Epoch 30/50\n",
            "314/314 [==============================] - 126s 402ms/step - loss: 1.8069 - accuracy: 0.6288 - val_loss: 2.6289 - val_accuracy: 0.5646\n",
            "Epoch 31/50\n",
            "314/314 [==============================] - 127s 404ms/step - loss: 1.7430 - accuracy: 0.6379 - val_loss: 2.6292 - val_accuracy: 0.5671\n",
            "Epoch 32/50\n",
            "314/314 [==============================] - 127s 405ms/step - loss: 1.6832 - accuracy: 0.6465 - val_loss: 2.6231 - val_accuracy: 0.5679\n",
            "Epoch 33/50\n",
            "314/314 [==============================] - 137s 436ms/step - loss: 1.6250 - accuracy: 0.6558 - val_loss: 2.6256 - val_accuracy: 0.5709\n",
            "Epoch 34/50\n",
            "314/314 [==============================] - 127s 405ms/step - loss: 1.5698 - accuracy: 0.6645 - val_loss: 2.6451 - val_accuracy: 0.5666\n",
            "Epoch 35/50\n",
            "314/314 [==============================] - 127s 406ms/step - loss: 1.5230 - accuracy: 0.6722 - val_loss: 2.6491 - val_accuracy: 0.5708\n",
            "Epoch 36/50\n",
            "314/314 [==============================] - 127s 403ms/step - loss: 1.4660 - accuracy: 0.6808 - val_loss: 2.6296 - val_accuracy: 0.5734\n",
            "Epoch 37/50\n",
            "314/314 [==============================] - 126s 402ms/step - loss: 1.4120 - accuracy: 0.6900 - val_loss: 2.6464 - val_accuracy: 0.5757\n",
            "Epoch 38/50\n",
            "314/314 [==============================] - 127s 406ms/step - loss: 1.3692 - accuracy: 0.6972 - val_loss: 2.6507 - val_accuracy: 0.5762\n",
            "Epoch 39/50\n",
            "314/314 [==============================] - 127s 405ms/step - loss: 1.3205 - accuracy: 0.7055 - val_loss: 2.6528 - val_accuracy: 0.5772\n",
            "Epoch 40/50\n",
            "314/314 [==============================] - 127s 403ms/step - loss: 1.2753 - accuracy: 0.7135 - val_loss: 2.6532 - val_accuracy: 0.5786\n",
            "Epoch 41/50\n",
            "314/314 [==============================] - 127s 405ms/step - loss: 1.2420 - accuracy: 0.7198 - val_loss: 2.6925 - val_accuracy: 0.5775\n",
            "Epoch 42/50\n",
            "314/314 [==============================] - 128s 406ms/step - loss: 1.1930 - accuracy: 0.7279 - val_loss: 2.6790 - val_accuracy: 0.5780\n",
            "Epoch 43/50\n",
            "314/314 [==============================] - 127s 405ms/step - loss: 1.1589 - accuracy: 0.7345 - val_loss: 2.6862 - val_accuracy: 0.5802\n",
            "Epoch 44/50\n",
            "314/314 [==============================] - 127s 405ms/step - loss: 1.1168 - accuracy: 0.7420 - val_loss: 2.7056 - val_accuracy: 0.5797\n",
            "Epoch 45/50\n",
            "314/314 [==============================] - 127s 404ms/step - loss: 1.0953 - accuracy: 0.7462 - val_loss: 2.7092 - val_accuracy: 0.5801\n",
            "Epoch 46/50\n",
            "314/314 [==============================] - 127s 406ms/step - loss: 1.0495 - accuracy: 0.7543 - val_loss: 2.7270 - val_accuracy: 0.5815\n",
            "Epoch 47/50\n",
            "314/314 [==============================] - 127s 405ms/step - loss: 1.0281 - accuracy: 0.7586 - val_loss: 2.7616 - val_accuracy: 0.5797\n",
            "Epoch 48/50\n",
            "314/314 [==============================] - 127s 403ms/step - loss: 1.0259 - accuracy: 0.7606 - val_loss: 2.7291 - val_accuracy: 0.5820\n",
            "Epoch 49/50\n",
            "314/314 [==============================] - 127s 406ms/step - loss: 0.9614 - accuracy: 0.7710 - val_loss: 2.7704 - val_accuracy: 0.5822\n",
            "Epoch 50/50\n",
            "314/314 [==============================] - 127s 405ms/step - loss: 0.9364 - accuracy: 0.7756 - val_loss: 2.7743 - val_accuracy: 0.5813\n"
          ]
        }
      ],
      "source": [
        "\n",
        "seq2seq_rnn.compile(\n",
        "    optimizer=\"rmsprop\",\n",
        "    loss=\"sparse_categorical_crossentropy\",\n",
        "    metrics=[\"accuracy\"])\n",
        "# seq2seq_rnn.fit(train_ds, epochs=15, validation_data=val_ds)\n",
        "history=seq2seq_rnn.fit(train_ds, epochs=50, validation_data=val_ds)\n"
      ]
    },
    {
      "cell_type": "markdown",
      "metadata": {
        "id": "kvNLQWVmkA2F"
      },
      "source": [
        "# Translating new sentences with our RNN encoder and decoder\n"
      ]
    },
    {
      "cell_type": "code",
      "execution_count": null,
      "metadata": {
        "colab": {
          "base_uri": "https://localhost:8080/"
        },
        "id": "ZbPPPpu4tr1I",
        "outputId": "50c78ddd-6800-4b24-9d45-972f3257efa5"
      },
      "outputs": [
        {
          "name": "stdout",
          "output_type": "stream",
          "text": [
            "-\n",
            "That s a horse of a different color\n",
            "1/1 [==============================] - 5s 5s/step\n",
            "1/1 [==============================] - 0s 32ms/step\n",
            "1/1 [==============================] - 0s 36ms/step\n",
            "1/1 [==============================] - 0s 34ms/step\n",
            "1/1 [==============================] - 0s 32ms/step\n",
            "1/1 [==============================] - 0s 40ms/step\n",
            "1/1 [==============================] - 0s 66ms/step\n",
            "1/1 [==============================] - 0s 32ms/step\n",
            "1/1 [==============================] - 0s 38ms/step\n",
            "1/1 [==============================] - 0s 45ms/step\n",
            "1/1 [==============================] - 0s 50ms/step\n",
            "1/1 [==============================] - 0s 55ms/step\n",
            "1/1 [==============================] - 0s 33ms/step\n",
            "1/1 [==============================] - 0s 51ms/step\n",
            "1/1 [==============================] - 0s 35ms/step\n",
            "1/1 [==============================] - 0s 79ms/step\n",
            "1/1 [==============================] - 0s 39ms/step\n",
            "1/1 [==============================] - 0s 66ms/step\n",
            "1/1 [==============================] - 0s 66ms/step\n",
            "1/1 [==============================] - 0s 92ms/step\n",
            "[start] ni farasi wa rangi tofauti  [UNK] [UNK] [UNK] [UNK] [UNK] [UNK] [UNK] [UNK] [UNK] [UNK] [UNK] [UNK] [UNK] [UNK]\n",
            "-\n",
            "Terms related to vienna convention on diplomatic relations\n",
            "1/1 [==============================] - 0s 42ms/step\n",
            "1/1 [==============================] - 0s 41ms/step\n",
            "1/1 [==============================] - 0s 43ms/step\n",
            "1/1 [==============================] - 0s 65ms/step\n",
            "1/1 [==============================] - 0s 110ms/step\n",
            "1/1 [==============================] - 0s 86ms/step\n",
            "1/1 [==============================] - 0s 38ms/step\n",
            "1/1 [==============================] - 0s 40ms/step\n",
            "1/1 [==============================] - 0s 53ms/step\n",
            "1/1 [==============================] - 0s 53ms/step\n",
            "1/1 [==============================] - 0s 34ms/step\n",
            "1/1 [==============================] - 0s 52ms/step\n",
            "1/1 [==============================] - 0s 34ms/step\n",
            "1/1 [==============================] - 0s 44ms/step\n",
            "1/1 [==============================] - 0s 51ms/step\n",
            "1/1 [==============================] - 0s 52ms/step\n",
            "1/1 [==============================] - 0s 65ms/step\n",
            "1/1 [==============================] - 0s 40ms/step\n",
            "1/1 [==============================] - 0s 96ms/step\n",
            "1/1 [==============================] - 0s 36ms/step\n",
            "[start] yanayohusiana na makubaliano ya vienna kwa uhusiano wa kidiplomasia  [UNK] [UNK] [UNK] [UNK] [UNK] [UNK] [UNK] [UNK] [UNK] [UNK]\n",
            "-\n",
            "What are some benefits that children derive from a wholesome family atmosphere\n",
            "1/1 [==============================] - 0s 49ms/step\n",
            "1/1 [==============================] - 0s 56ms/step\n",
            "1/1 [==============================] - 0s 41ms/step\n",
            "1/1 [==============================] - 0s 74ms/step\n",
            "1/1 [==============================] - 0s 87ms/step\n",
            "1/1 [==============================] - 0s 52ms/step\n",
            "1/1 [==============================] - 0s 35ms/step\n",
            "1/1 [==============================] - 0s 53ms/step\n",
            "1/1 [==============================] - 0s 33ms/step\n",
            "1/1 [==============================] - 0s 52ms/step\n",
            "1/1 [==============================] - 0s 48ms/step\n",
            "1/1 [==============================] - 0s 48ms/step\n",
            "1/1 [==============================] - 0s 39ms/step\n",
            "1/1 [==============================] - 0s 33ms/step\n",
            "1/1 [==============================] - 0s 52ms/step\n",
            "1/1 [==============================] - 0s 30ms/step\n",
            "1/1 [==============================] - 0s 42ms/step\n",
            "1/1 [==============================] - 0s 45ms/step\n",
            "1/1 [==============================] - 0s 101ms/step\n",
            "1/1 [==============================] - 0s 92ms/step\n",
            "[start] ni watu gani muhimu [UNK] [UNK] katika familia ya afya  [UNK] [UNK] [UNK] [UNK] [UNK] [UNK] [UNK] [UNK] [UNK]\n",
            "-\n",
            "It s very easy to sound natural in your own native language and very easy to sound unnatural in your non native language\n",
            "1/1 [==============================] - 0s 99ms/step\n",
            "1/1 [==============================] - 0s 107ms/step\n",
            "1/1 [==============================] - 0s 115ms/step\n",
            "1/1 [==============================] - 0s 36ms/step\n",
            "1/1 [==============================] - 0s 35ms/step\n",
            "1/1 [==============================] - 0s 165ms/step\n",
            "1/1 [==============================] - 0s 74ms/step\n",
            "1/1 [==============================] - 0s 69ms/step\n",
            "1/1 [==============================] - 0s 104ms/step\n",
            "1/1 [==============================] - 0s 38ms/step\n",
            "1/1 [==============================] - 0s 48ms/step\n",
            "1/1 [==============================] - 0s 36ms/step\n",
            "1/1 [==============================] - 0s 35ms/step\n",
            "1/1 [==============================] - 0s 99ms/step\n",
            "1/1 [==============================] - 0s 47ms/step\n",
            "1/1 [==============================] - 0s 35ms/step\n",
            "1/1 [==============================] - 0s 35ms/step\n",
            "1/1 [==============================] - 0s 49ms/step\n",
            "1/1 [==============================] - 0s 40ms/step\n",
            "1/1 [==============================] - 0s 96ms/step\n",
            "[start] sana ni ngumu kusikika katika lugha yako ya asili na yenye nguvu kabisa kama vile [UNK] katika asili ni lugha\n",
            "-\n",
            "You must respect your elders\n",
            "1/1 [==============================] - 0s 36ms/step\n",
            "1/1 [==============================] - 0s 40ms/step\n",
            "1/1 [==============================] - 0s 34ms/step\n",
            "1/1 [==============================] - 0s 87ms/step\n",
            "1/1 [==============================] - 0s 38ms/step\n",
            "1/1 [==============================] - 0s 31ms/step\n",
            "1/1 [==============================] - 0s 92ms/step\n",
            "1/1 [==============================] - 0s 39ms/step\n",
            "1/1 [==============================] - 0s 30ms/step\n",
            "1/1 [==============================] - 0s 37ms/step\n",
            "1/1 [==============================] - 0s 47ms/step\n",
            "1/1 [==============================] - 0s 60ms/step\n",
            "1/1 [==============================] - 0s 78ms/step\n",
            "1/1 [==============================] - 0s 55ms/step\n",
            "1/1 [==============================] - 0s 52ms/step\n",
            "1/1 [==============================] - 0s 89ms/step\n",
            "1/1 [==============================] - 0s 36ms/step\n",
            "1/1 [==============================] - 0s 33ms/step\n",
            "1/1 [==============================] - 0s 60ms/step\n",
            "1/1 [==============================] - 0s 35ms/step\n",
            "[start] kamwe  [UNK] [UNK] [UNK] [UNK] [UNK] [UNK] [UNK] [UNK] [UNK] [UNK] [UNK] [UNK] [UNK] [UNK] [UNK] [UNK] [UNK] [UNK]\n",
            "-\n",
            "I want you to know that I believe you\n",
            "1/1 [==============================] - 0s 48ms/step\n",
            "1/1 [==============================] - 0s 50ms/step\n",
            "1/1 [==============================] - 0s 43ms/step\n",
            "1/1 [==============================] - 0s 39ms/step\n",
            "1/1 [==============================] - 0s 58ms/step\n",
            "1/1 [==============================] - 0s 83ms/step\n",
            "1/1 [==============================] - 0s 46ms/step\n",
            "1/1 [==============================] - 0s 91ms/step\n",
            "1/1 [==============================] - 0s 68ms/step\n",
            "1/1 [==============================] - 0s 35ms/step\n",
            "1/1 [==============================] - 0s 45ms/step\n",
            "1/1 [==============================] - 0s 46ms/step\n",
            "1/1 [==============================] - 0s 68ms/step\n",
            "1/1 [==============================] - 0s 63ms/step\n",
            "1/1 [==============================] - 0s 100ms/step\n",
            "1/1 [==============================] - 0s 111ms/step\n",
            "1/1 [==============================] - 0s 23ms/step\n",
            "1/1 [==============================] - 0s 26ms/step\n",
            "1/1 [==============================] - 0s 24ms/step\n",
            "1/1 [==============================] - 0s 23ms/step\n",
            "[start] ujue hilo  [UNK] [UNK] [UNK] [UNK] [UNK] [UNK] [UNK] [UNK] [UNK] [UNK] [UNK] [UNK] [UNK] [UNK] [UNK] [UNK] [UNK]\n",
            "-\n",
            "Let s try this cake\n",
            "1/1 [==============================] - 0s 24ms/step\n",
            "1/1 [==============================] - 0s 24ms/step\n",
            "1/1 [==============================] - 0s 21ms/step\n",
            "1/1 [==============================] - 0s 21ms/step\n",
            "1/1 [==============================] - 0s 25ms/step\n",
            "1/1 [==============================] - 0s 23ms/step\n",
            "1/1 [==============================] - 0s 23ms/step\n",
            "1/1 [==============================] - 0s 22ms/step\n",
            "1/1 [==============================] - 0s 31ms/step\n",
            "1/1 [==============================] - 0s 22ms/step\n",
            "1/1 [==============================] - 0s 22ms/step\n",
            "1/1 [==============================] - 0s 22ms/step\n",
            "1/1 [==============================] - 0s 22ms/step\n",
            "1/1 [==============================] - 0s 24ms/step\n",
            "1/1 [==============================] - 0s 22ms/step\n",
            "1/1 [==============================] - 0s 25ms/step\n",
            "1/1 [==============================] - 0s 24ms/step\n",
            "1/1 [==============================] - 0s 23ms/step\n",
            "1/1 [==============================] - 0s 24ms/step\n",
            "1/1 [==============================] - 0s 22ms/step\n",
            "[start] keki hii  [UNK] [UNK] [UNK] [UNK] [UNK] [UNK] [UNK] [UNK] [UNK] [UNK] [UNK] [UNK] [UNK] [UNK] [UNK] [UNK] [UNK]\n",
            "-\n",
            "He retired with little money and became dependent on his son and daughter for financial support\n",
            "1/1 [==============================] - 0s 27ms/step\n",
            "1/1 [==============================] - 0s 47ms/step\n",
            "1/1 [==============================] - 0s 38ms/step\n",
            "1/1 [==============================] - 0s 41ms/step\n",
            "1/1 [==============================] - 0s 34ms/step\n",
            "1/1 [==============================] - 0s 37ms/step\n",
            "1/1 [==============================] - 0s 23ms/step\n",
            "1/1 [==============================] - 0s 26ms/step\n",
            "1/1 [==============================] - 0s 25ms/step\n",
            "1/1 [==============================] - 0s 23ms/step\n",
            "1/1 [==============================] - 0s 23ms/step\n",
            "1/1 [==============================] - 0s 24ms/step\n",
            "1/1 [==============================] - 0s 24ms/step\n",
            "1/1 [==============================] - 0s 24ms/step\n",
            "1/1 [==============================] - 0s 24ms/step\n",
            "1/1 [==============================] - 0s 23ms/step\n",
            "1/1 [==============================] - 0s 24ms/step\n",
            "1/1 [==============================] - 0s 32ms/step\n",
            "1/1 [==============================] - 0s 35ms/step\n",
            "1/1 [==============================] - 0s 34ms/step\n",
            "[start] muda na pesa [UNK] na [UNK] kwa binti na ushauri wake  [UNK] [UNK] [UNK] [UNK] [UNK] [UNK] [UNK] [UNK]\n",
            "-\n",
            "Nara is an old city worth visiting at least once in your life\n",
            "1/1 [==============================] - 0s 41ms/step\n",
            "1/1 [==============================] - 0s 31ms/step\n",
            "1/1 [==============================] - 0s 31ms/step\n",
            "1/1 [==============================] - 0s 32ms/step\n",
            "1/1 [==============================] - 0s 33ms/step\n",
            "1/1 [==============================] - 0s 32ms/step\n",
            "1/1 [==============================] - 0s 43ms/step\n",
            "1/1 [==============================] - 0s 39ms/step\n",
            "1/1 [==============================] - 0s 36ms/step\n",
            "1/1 [==============================] - 0s 33ms/step\n",
            "1/1 [==============================] - 0s 33ms/step\n",
            "1/1 [==============================] - 0s 32ms/step\n",
            "1/1 [==============================] - 0s 32ms/step\n",
            "1/1 [==============================] - 0s 34ms/step\n",
            "1/1 [==============================] - 0s 34ms/step\n",
            "1/1 [==============================] - 0s 47ms/step\n",
            "1/1 [==============================] - 0s 36ms/step\n",
            "1/1 [==============================] - 0s 44ms/step\n",
            "1/1 [==============================] - 0s 35ms/step\n",
            "1/1 [==============================] - 0s 44ms/step\n",
            "[start] ni jiji la zamani linalofaa kutembelewa angalau mara moja katika maisha yako  [UNK] [UNK] [UNK] [UNK] [UNK] [UNK] [UNK]\n",
            "-\n",
            "You re very talented\n",
            "1/1 [==============================] - 0s 37ms/step\n",
            "1/1 [==============================] - 0s 25ms/step\n",
            "1/1 [==============================] - 0s 23ms/step\n",
            "1/1 [==============================] - 0s 25ms/step\n",
            "1/1 [==============================] - 0s 24ms/step\n",
            "1/1 [==============================] - 0s 22ms/step\n",
            "1/1 [==============================] - 0s 28ms/step\n",
            "1/1 [==============================] - 0s 28ms/step\n",
            "1/1 [==============================] - 0s 26ms/step\n",
            "1/1 [==============================] - 0s 27ms/step\n",
            "1/1 [==============================] - 0s 25ms/step\n",
            "1/1 [==============================] - 0s 21ms/step\n",
            "1/1 [==============================] - 0s 26ms/step\n",
            "1/1 [==============================] - 0s 27ms/step\n",
            "1/1 [==============================] - 0s 22ms/step\n",
            "1/1 [==============================] - 0s 24ms/step\n",
            "1/1 [==============================] - 0s 24ms/step\n",
            "1/1 [==============================] - 0s 25ms/step\n",
            "1/1 [==============================] - 0s 22ms/step\n",
            "1/1 [==============================] - 0s 25ms/step\n",
            "[start] sana  [UNK] [UNK] [UNK] [UNK] [UNK] [UNK] [UNK] [UNK] [UNK] [UNK] [UNK] [UNK] [UNK] [UNK] [UNK] [UNK] [UNK] [UNK]\n",
            "-\n",
            "Are you afraid of that\n",
            "1/1 [==============================] - 0s 27ms/step\n",
            "1/1 [==============================] - 0s 22ms/step\n",
            "1/1 [==============================] - 0s 26ms/step\n",
            "1/1 [==============================] - 0s 22ms/step\n",
            "1/1 [==============================] - 0s 28ms/step\n",
            "1/1 [==============================] - 0s 25ms/step\n",
            "1/1 [==============================] - 0s 23ms/step\n",
            "1/1 [==============================] - 0s 22ms/step\n",
            "1/1 [==============================] - 0s 24ms/step\n",
            "1/1 [==============================] - 0s 23ms/step\n",
            "1/1 [==============================] - 0s 24ms/step\n",
            "1/1 [==============================] - 0s 22ms/step\n",
            "1/1 [==============================] - 0s 22ms/step\n",
            "1/1 [==============================] - 0s 24ms/step\n",
            "1/1 [==============================] - 0s 24ms/step\n",
            "1/1 [==============================] - 0s 24ms/step\n",
            "1/1 [==============================] - 0s 23ms/step\n",
            "1/1 [==============================] - 0s 23ms/step\n",
            "1/1 [==============================] - 0s 23ms/step\n",
            "1/1 [==============================] - 0s 25ms/step\n",
            "[start] hilo  [UNK] [UNK] [UNK] [UNK] [UNK] [UNK] [UNK] [UNK] [UNK] [UNK] [UNK] [UNK] [UNK] [UNK] [UNK] [UNK] [UNK] [UNK]\n",
            "-\n",
            "My father was insistent that one of those machines would never be seen near his desk\n",
            "1/1 [==============================] - 0s 23ms/step\n",
            "1/1 [==============================] - 0s 22ms/step\n",
            "1/1 [==============================] - 0s 26ms/step\n",
            "1/1 [==============================] - 0s 23ms/step\n",
            "1/1 [==============================] - 0s 25ms/step\n",
            "1/1 [==============================] - 0s 26ms/step\n",
            "1/1 [==============================] - 0s 23ms/step\n",
            "1/1 [==============================] - 0s 23ms/step\n",
            "1/1 [==============================] - 0s 25ms/step\n",
            "1/1 [==============================] - 0s 23ms/step\n",
            "1/1 [==============================] - 0s 23ms/step\n",
            "1/1 [==============================] - 0s 26ms/step\n",
            "1/1 [==============================] - 0s 24ms/step\n",
            "1/1 [==============================] - 0s 31ms/step\n",
            "1/1 [==============================] - 0s 25ms/step\n",
            "1/1 [==============================] - 0s 28ms/step\n",
            "1/1 [==============================] - 0s 26ms/step\n",
            "1/1 [==============================] - 0s 24ms/step\n",
            "1/1 [==============================] - 0s 24ms/step\n",
            "1/1 [==============================] - 0s 24ms/step\n",
            "[start] mtu huyo [UNK] zaidi ya kwamba angeweza [UNK] kwenye dirisha lake  [UNK] [UNK] [UNK] [UNK] [UNK] [UNK] [UNK] [UNK]\n",
            "-\n",
            "I reviewed the file\n",
            "1/1 [==============================] - 0s 23ms/step\n",
            "1/1 [==============================] - 0s 23ms/step\n",
            "1/1 [==============================] - 0s 22ms/step\n",
            "1/1 [==============================] - 0s 21ms/step\n",
            "1/1 [==============================] - 0s 23ms/step\n",
            "1/1 [==============================] - 0s 21ms/step\n",
            "1/1 [==============================] - 0s 24ms/step\n",
            "1/1 [==============================] - 0s 23ms/step\n",
            "1/1 [==============================] - 0s 21ms/step\n",
            "1/1 [==============================] - 0s 27ms/step\n",
            "1/1 [==============================] - 0s 24ms/step\n",
            "1/1 [==============================] - 0s 23ms/step\n",
            "1/1 [==============================] - 0s 23ms/step\n",
            "1/1 [==============================] - 0s 23ms/step\n",
            "1/1 [==============================] - 0s 22ms/step\n",
            "1/1 [==============================] - 0s 24ms/step\n",
            "1/1 [==============================] - 0s 22ms/step\n",
            "1/1 [==============================] - 0s 25ms/step\n",
            "1/1 [==============================] - 0s 24ms/step\n",
            "1/1 [==============================] - 0s 27ms/step\n",
            "[start] faili  [UNK] [UNK] [UNK] [UNK] [UNK] [UNK] [UNK] [UNK] [UNK] [UNK] [UNK] [UNK] [UNK] [UNK] [UNK] [UNK] [UNK] [UNK]\n",
            "-\n",
            "Give Tom back his money\n",
            "1/1 [==============================] - 0s 23ms/step\n",
            "1/1 [==============================] - 0s 25ms/step\n",
            "1/1 [==============================] - 0s 27ms/step\n",
            "1/1 [==============================] - 0s 22ms/step\n",
            "1/1 [==============================] - 0s 23ms/step\n",
            "1/1 [==============================] - 0s 26ms/step\n",
            "1/1 [==============================] - 0s 22ms/step\n",
            "1/1 [==============================] - 0s 22ms/step\n",
            "1/1 [==============================] - 0s 23ms/step\n",
            "1/1 [==============================] - 0s 21ms/step\n",
            "1/1 [==============================] - 0s 21ms/step\n",
            "1/1 [==============================] - 0s 22ms/step\n",
            "1/1 [==============================] - 0s 26ms/step\n",
            "1/1 [==============================] - 0s 23ms/step\n",
            "1/1 [==============================] - 0s 27ms/step\n",
            "1/1 [==============================] - 0s 24ms/step\n",
            "1/1 [==============================] - 0s 22ms/step\n",
            "1/1 [==============================] - 0s 28ms/step\n",
            "1/1 [==============================] - 0s 25ms/step\n",
            "1/1 [==============================] - 0s 22ms/step\n",
            "[start] baba yangu  [UNK] [UNK] [UNK] [UNK] [UNK] [UNK] [UNK] [UNK] [UNK] [UNK] [UNK] [UNK] [UNK] [UNK] [UNK] [UNK] [UNK]\n",
            "-\n",
            "I thought you were at work\n",
            "1/1 [==============================] - 0s 24ms/step\n",
            "1/1 [==============================] - 0s 21ms/step\n",
            "1/1 [==============================] - 0s 21ms/step\n",
            "1/1 [==============================] - 0s 21ms/step\n",
            "1/1 [==============================] - 0s 22ms/step\n",
            "1/1 [==============================] - 0s 23ms/step\n",
            "1/1 [==============================] - 0s 21ms/step\n",
            "1/1 [==============================] - 0s 24ms/step\n",
            "1/1 [==============================] - 0s 23ms/step\n",
            "1/1 [==============================] - 0s 22ms/step\n",
            "1/1 [==============================] - 0s 24ms/step\n",
            "1/1 [==============================] - 0s 22ms/step\n",
            "1/1 [==============================] - 0s 29ms/step\n",
            "1/1 [==============================] - 0s 25ms/step\n",
            "1/1 [==============================] - 0s 25ms/step\n",
            "1/1 [==============================] - 0s 24ms/step\n",
            "1/1 [==============================] - 0s 25ms/step\n",
            "1/1 [==============================] - 0s 24ms/step\n",
            "1/1 [==============================] - 0s 24ms/step\n",
            "1/1 [==============================] - 0s 22ms/step\n",
            "[start] hii  [UNK] [UNK] [UNK] [UNK] [UNK] [UNK] [UNK] [UNK] [UNK] [UNK] [UNK] [UNK] [UNK] [UNK] [UNK] [UNK] [UNK] [UNK]\n",
            "-\n",
            "I erased the blackboard for the teacher\n",
            "1/1 [==============================] - 0s 28ms/step\n",
            "1/1 [==============================] - 0s 23ms/step\n",
            "1/1 [==============================] - 0s 21ms/step\n",
            "1/1 [==============================] - 0s 23ms/step\n",
            "1/1 [==============================] - 0s 22ms/step\n",
            "1/1 [==============================] - 0s 22ms/step\n",
            "1/1 [==============================] - 0s 22ms/step\n",
            "1/1 [==============================] - 0s 25ms/step\n",
            "1/1 [==============================] - 0s 25ms/step\n",
            "1/1 [==============================] - 0s 22ms/step\n",
            "1/1 [==============================] - 0s 25ms/step\n",
            "1/1 [==============================] - 0s 24ms/step\n",
            "1/1 [==============================] - 0s 24ms/step\n",
            "1/1 [==============================] - 0s 28ms/step\n",
            "1/1 [==============================] - 0s 25ms/step\n",
            "1/1 [==============================] - 0s 26ms/step\n",
            "1/1 [==============================] - 0s 26ms/step\n",
            "1/1 [==============================] - 0s 25ms/step\n",
            "1/1 [==============================] - 0s 24ms/step\n",
            "1/1 [==============================] - 0s 24ms/step\n",
            "[start] ubao kwa mwalimu  [UNK] [UNK] [UNK] [UNK] [UNK] [UNK] [UNK] [UNK] [UNK] [UNK] [UNK] [UNK] [UNK] [UNK] [UNK] [UNK]\n",
            "-\n",
            "Tom gave them a general idea of what he wanted\n",
            "1/1 [==============================] - 0s 29ms/step\n",
            "1/1 [==============================] - 0s 26ms/step\n",
            "1/1 [==============================] - 0s 36ms/step\n",
            "1/1 [==============================] - 0s 39ms/step\n",
            "1/1 [==============================] - 0s 34ms/step\n",
            "1/1 [==============================] - 0s 35ms/step\n",
            "1/1 [==============================] - 0s 35ms/step\n",
            "1/1 [==============================] - 0s 36ms/step\n",
            "1/1 [==============================] - 0s 35ms/step\n",
            "1/1 [==============================] - 0s 36ms/step\n",
            "1/1 [==============================] - 0s 38ms/step\n",
            "1/1 [==============================] - 0s 37ms/step\n",
            "1/1 [==============================] - 0s 34ms/step\n",
            "1/1 [==============================] - 0s 39ms/step\n",
            "1/1 [==============================] - 0s 38ms/step\n",
            "1/1 [==============================] - 0s 34ms/step\n",
            "1/1 [==============================] - 0s 36ms/step\n",
            "1/1 [==============================] - 0s 34ms/step\n",
            "1/1 [==============================] - 0s 36ms/step\n",
            "1/1 [==============================] - 0s 34ms/step\n",
            "[start] ahadi [UNK] na kile kilichotokea  [UNK] [UNK] [UNK] [UNK] [UNK] [UNK] [UNK] [UNK] [UNK] [UNK] [UNK] [UNK] [UNK] [UNK]\n",
            "-\n",
            "We re taking over\n",
            "1/1 [==============================] - 0s 36ms/step\n",
            "1/1 [==============================] - 0s 46ms/step\n",
            "1/1 [==============================] - 0s 33ms/step\n",
            "1/1 [==============================] - 0s 32ms/step\n",
            "1/1 [==============================] - 0s 24ms/step\n",
            "1/1 [==============================] - 0s 23ms/step\n",
            "1/1 [==============================] - 0s 21ms/step\n",
            "1/1 [==============================] - 0s 21ms/step\n",
            "1/1 [==============================] - 0s 21ms/step\n",
            "1/1 [==============================] - 0s 25ms/step\n",
            "1/1 [==============================] - 0s 21ms/step\n",
            "1/1 [==============================] - 0s 22ms/step\n",
            "1/1 [==============================] - 0s 22ms/step\n",
            "1/1 [==============================] - 0s 23ms/step\n",
            "1/1 [==============================] - 0s 31ms/step\n",
            "1/1 [==============================] - 0s 22ms/step\n",
            "1/1 [==============================] - 0s 21ms/step\n",
            "1/1 [==============================] - 0s 24ms/step\n",
            "1/1 [==============================] - 0s 22ms/step\n",
            "1/1 [==============================] - 0s 22ms/step\n",
            "[start]  [UNK] [UNK] [UNK] [UNK] [UNK] [UNK] [UNK] [UNK] [UNK] [UNK] [UNK] [UNK] [UNK] [UNK] [UNK] [UNK] [UNK] [UNK] [UNK]\n",
            "-\n",
            "I haven t gotten rid of my bad cold yet\n",
            "1/1 [==============================] - 0s 26ms/step\n",
            "1/1 [==============================] - 0s 22ms/step\n",
            "1/1 [==============================] - 0s 25ms/step\n",
            "1/1 [==============================] - 0s 22ms/step\n",
            "1/1 [==============================] - 0s 27ms/step\n",
            "1/1 [==============================] - 0s 24ms/step\n",
            "1/1 [==============================] - 0s 26ms/step\n",
            "1/1 [==============================] - 0s 25ms/step\n",
            "1/1 [==============================] - 0s 27ms/step\n",
            "1/1 [==============================] - 0s 23ms/step\n",
            "1/1 [==============================] - 0s 24ms/step\n",
            "1/1 [==============================] - 0s 22ms/step\n",
            "1/1 [==============================] - 0s 23ms/step\n",
            "1/1 [==============================] - 0s 24ms/step\n",
            "1/1 [==============================] - 0s 24ms/step\n",
            "1/1 [==============================] - 0s 29ms/step\n",
            "1/1 [==============================] - 0s 23ms/step\n",
            "1/1 [==============================] - 0s 23ms/step\n",
            "1/1 [==============================] - 0s 28ms/step\n",
            "1/1 [==============================] - 0s 23ms/step\n",
            "[start] sijaondoa baridi yangu bado  [UNK] [UNK] [UNK] [UNK] [UNK] [UNK] [UNK] [UNK] [UNK] [UNK] [UNK] [UNK] [UNK] [UNK] [UNK]\n",
            "-\n",
            "I don t really want to go there by myself\n",
            "1/1 [==============================] - 0s 24ms/step\n",
            "1/1 [==============================] - 0s 23ms/step\n",
            "1/1 [==============================] - 0s 25ms/step\n",
            "1/1 [==============================] - 0s 23ms/step\n",
            "1/1 [==============================] - 0s 23ms/step\n",
            "1/1 [==============================] - 0s 25ms/step\n",
            "1/1 [==============================] - 0s 26ms/step\n",
            "1/1 [==============================] - 0s 25ms/step\n",
            "1/1 [==============================] - 0s 25ms/step\n",
            "1/1 [==============================] - 0s 22ms/step\n",
            "1/1 [==============================] - 0s 26ms/step\n",
            "1/1 [==============================] - 0s 23ms/step\n",
            "1/1 [==============================] - 0s 26ms/step\n",
            "1/1 [==============================] - 0s 26ms/step\n",
            "1/1 [==============================] - 0s 23ms/step\n",
            "1/1 [==============================] - 0s 25ms/step\n",
            "1/1 [==============================] - 0s 25ms/step\n",
            "1/1 [==============================] - 0s 30ms/step\n",
            "1/1 [==============================] - 0s 26ms/step\n",
            "1/1 [==============================] - 0s 28ms/step\n",
            "[start] kabisa kwenda huko peke yangu  [UNK] [UNK] [UNK] [UNK] [UNK] [UNK] [UNK] [UNK] [UNK] [UNK] [UNK] [UNK] [UNK] [UNK]\n"
          ]
        }
      ],
      "source": [
        "\n",
        "import numpy as np\n",
        "swa_vocab = target_vectorization.get_vocabulary()\n",
        "swa_index_lookup = dict(zip(range(len(swa_vocab)), swa_vocab))\n",
        "max_decoded_sentence_length = 20\n",
        "\n",
        "def decode_sequence(input_sentence):\n",
        "    tokenized_input_sentence = source_vectorization([input_sentence])\n",
        "    decoded_sentence = \"[start]\"\n",
        "    for i in range(max_decoded_sentence_length):\n",
        "        tokenized_target_sentence = target_vectorization([decoded_sentence])\n",
        "        next_token_predictions = seq2seq_rnn.predict(\n",
        "            [tokenized_input_sentence, tokenized_target_sentence])\n",
        "        sampled_token_index = np.argmax(next_token_predictions[0, i, :])\n",
        "        sampled_token = swa_index_lookup[sampled_token_index]\n",
        "        decoded_sentence += \" \" + sampled_token\n",
        "        if sampled_token == \"[end]\":\n",
        "            break\n",
        "    return decoded_sentence\n",
        "\n",
        "test_eng_texts = [pair[0] for pair in pairs]\n",
        "for _ in range(20):\n",
        "    input_sentence = random.choice(test_eng_texts)\n",
        "    print(\"-\")\n",
        "    print(input_sentence)\n",
        "    print(decode_sequence(input_sentence))"
      ]
    },
    {
      "cell_type": "markdown",
      "metadata": {},
      "source": [
        "### \"[UNK]\" stands for \"unknown\" tokens.\n",
        "- These tokens represent words or characters in the generated translation that the model couldn't confidently predict or understand during the translation process.\n",
        "\n",
        "\n",
        "- There are various reasons why the model might produce \"[UNK]\" tokens. It could be encountering words or phrases that are rare or not present in its training data. Alternatively, it may be struggling with out-of-vocabulary words or misspelled words that were not part of its training set.\n"
      ]
    },
    {
      "cell_type": "markdown",
      "metadata": {
        "id": "7808l5YKj588"
      },
      "source": [
        "Visualization of accuracy and validation"
      ]
    },
    {
      "cell_type": "code",
      "execution_count": null,
      "metadata": {
        "colab": {
          "base_uri": "https://localhost:8080/",
          "height": 939
        },
        "id": "uUr1nPSP9l0E",
        "outputId": "df76bf02-4c60-48f8-b8c9-6994765e8875"
      },
      "outputs": [
        {
          "data": {
            "image/png": "[encoded data removed]",
            "text/plain": [
              "<Figure size 640x480 with 1 Axes>"
            ]
          },
          "metadata": {},
          "output_type": "display_data"
        },
        {
          "data": {
            "text/plain": [
              "<Figure size 640x480 with 0 Axes>"
            ]
          },
          "metadata": {},
          "output_type": "display_data"
        },
        {
          "data": {
            "text/plain": [
              "<Figure size 640x480 with 0 Axes>"
            ]
          },
          "execution_count": 17,
          "metadata": {},
          "output_type": "execute_result"
        },
        {
          "data": {
            "image/png": "[encoded data removed]",
            "text/plain": [
              "<Figure size 640x480 with 1 Axes>"
            ]
          },
          "metadata": {},
          "output_type": "display_data"
        },
        {
          "data": {
            "text/plain": [
              "<Figure size 640x480 with 0 Axes>"
            ]
          },
          "metadata": {},
          "output_type": "display_data"
        }
      ],
      "source": [
        "import matplotlib.pyplot as plt\n",
        "\n",
        "%matplotlib inline\n",
        "import matplotlib.pyplot as plt\n",
        "acc = history.history['accuracy']\n",
        "val_acc = history.history['val_accuracy']\n",
        "loss = history.history['loss']\n",
        "val_loss = history.history['val_loss']\n",
        "\n",
        "epochs = range(len(acc))\n",
        "\n",
        "plt.plot(epochs, acc, 'g', label='Training accuracy')\n",
        "plt.plot(epochs, val_acc, 'b', label='Validation accuracy')\n",
        "plt.title('Training and validation accuracy')\n",
        "plt.legend(loc=0)\n",
        "plt.savefig('wordA.png')\n",
        "plt.figure()\n",
        "plt.show()\n",
        "\n",
        "plt.plot(epochs, loss, 'r', label='Training loss')\n",
        "plt.plot(epochs, val_loss, 'o', label='Validation loss')\n",
        "plt.title('Training and validation loss')\n",
        "plt.legend(loc=0)\n",
        "plt.savefig('wordL.png')\n",
        "plt.figure()"
      ]
    },
    {
      "cell_type": "markdown",
      "metadata": {
        "id": "pMQe_FoSjfgE"
      },
      "source": [
        "# **# Sequence-to-sequence learning with Transformer**\n",
        "\n",
        "*The TransformerDecoder*\n",
        " *The Transformer decoder*"
      ]
    },
    {
      "cell_type": "code",
      "execution_count": 13,
      "metadata": {
        "id": "iQR2Gibq9mSr"
      },
      "outputs": [],
      "source": [
        "\n",
        "import tensorflow as tf\n",
        "from tensorflow import keras\n",
        "from tensorflow.keras import layers\n",
        "\n",
        "class TransformerDecoder(layers.Layer):\n",
        "    def __init__(self, embed_dim, dense_dim, num_heads, **kwargs):\n",
        "        super().__init__(**kwargs)\n",
        "        self.embed_dim = embed_dim\n",
        "        self.dense_dim = dense_dim\n",
        "        self.num_heads = num_heads\n",
        "        self.attention_1 = layers.MultiHeadAttention(\n",
        "            num_heads=num_heads, key_dim=embed_dim)\n",
        "        self.attention_2 = layers.MultiHeadAttention(\n",
        "            num_heads=num_heads, key_dim=embed_dim)\n",
        "        self.dense_proj = keras.Sequential(\n",
        "            [layers.Dense(dense_dim, activation=\"relu\"),\n",
        "             layers.Dense(embed_dim),]\n",
        "        )\n",
        "        self.layernorm_1 = layers.LayerNormalization()\n",
        "        self.layernorm_2 = layers.LayerNormalization()\n",
        "        self.layernorm_3 = layers.LayerNormalization()\n",
        "        self.supports_masking = True\n",
        "\n",
        "    def call(self,inputs,mask=None):\n",
        "      if mask is not None:\n",
        "        mask=mask[:, tf.newaxis,:]\n",
        "      attention_output=self.attention(\n",
        "          inputs,attention_mask=mask\n",
        "      )\n",
        "      proj_input=self.layernorm_1(inputs + attention_output)\n",
        "      proj_output=self.dense_proj(proj_input)\n",
        "      return self.layernorm_2(proj_input+proj_output)\n",
        "\n",
        "    def get_config(self):\n",
        "        config = super().get_config()\n",
        "        config.update({\n",
        "            \"embed_dim\": self.embed_dim,\n",
        "            \"num_heads\": self.num_heads,\n",
        "            \"dense_dim\": self.dense_dim,\n",
        "        })\n",
        "        return config\n",
        "\n",
        "    def get_causal_attention_mask(self, inputs):\n",
        "        input_shape = tf.shape(inputs)\n",
        "        batch_size, sequence_length = input_shape[0], input_shape[1]\n",
        "        i = tf.range(sequence_length)[:, tf.newaxis]\n",
        "        j = tf.range(sequence_length)\n",
        "        mask = tf.cast(i >= j, dtype=\"int32\")\n",
        "        mask = tf.reshape(mask, (1, input_shape[1], input_shape[1]))\n",
        "        mult = tf.concat(\n",
        "            [tf.expand_dims(batch_size, -1),\n",
        "             tf.constant([1, 1], dtype=tf.int32)], axis=0)\n",
        "        return tf.tile(mask, mult)\n",
        "\n",
        "    def call(self, inputs, encoder_outputs, mask=None):\n",
        "        causal_mask = self.get_causal_attention_mask(inputs)\n",
        "        if mask is not None:\n",
        "            padding_mask = tf.cast(\n",
        "                mask[:, tf.newaxis, :], dtype=\"int32\")\n",
        "            padding_mask = tf.minimum(padding_mask, causal_mask)\n",
        "        else:\n",
        "            padding_mask = mask\n",
        "        attention_output_1 = self.attention_1(\n",
        "            query=inputs,\n",
        "            value=inputs,\n",
        "            key=inputs,\n",
        "            attention_mask=causal_mask)\n",
        "        attention_output_1 = self.layernorm_1(inputs + attention_output_1)\n",
        "        attention_output_2 = self.attention_2(\n",
        "            query=attention_output_1,\n",
        "            value=encoder_outputs,\n",
        "            key=encoder_outputs,\n",
        "            attention_mask=padding_mask,\n",
        "        )\n",
        "        attention_output_2 = self.layernorm_2(\n",
        "            attention_output_1 + attention_output_2)\n",
        "        proj_output = self.dense_proj(attention_output_2)\n",
        "        return self.layernorm_3(attention_output_2 + proj_output)\n"
      ]
    },
    {
      "cell_type": "markdown",
      "metadata": {
        "id": "0YsY6NSkjc3k"
      },
      "source": [
        "# PositionalEmbedding layer\n",
        "\n"
      ]
    },
    {
      "cell_type": "code",
      "execution_count": 14,
      "metadata": {
        "id": "yNt5_tvOQzZs"
      },
      "outputs": [],
      "source": [
        "\n",
        "class PositionalEmbedding(layers.Layer):\n",
        "    def __init__(self, sequence_length, input_dim, output_dim, **kwargs):\n",
        "        super().__init__(**kwargs)\n",
        "        self.token_embeddings = layers.Embedding(\n",
        "            input_dim=input_dim, output_dim=output_dim)\n",
        "        self.position_embeddings = layers.Embedding(\n",
        "            input_dim=sequence_length, output_dim=output_dim)\n",
        "        self.sequence_length = sequence_length\n",
        "        self.input_dim = input_dim\n",
        "        self.output_dim = output_dim\n",
        "\n",
        "    def call(self, inputs):\n",
        "        length = tf.shape(inputs)[-1]\n",
        "        positions = tf.range(start=0, limit=length, delta=1)\n",
        "        embedded_tokens = self.token_embeddings(inputs)\n",
        "        embedded_positions = self.position_embeddings(positions)\n",
        "        return embedded_tokens + embedded_positions\n",
        "\n",
        "    def compute_mask(self, inputs, mask=None):\n",
        "        return tf.math.not_equal(inputs, 0)\n",
        "\n",
        "    def get_config(self):\n",
        "        config = super(PositionalEmbedding, self).get_config()\n",
        "        config.update({\n",
        "            \"output_dim\": self.output_dim,\n",
        "            \"sequence_length\": self.sequence_length,\n",
        "            \"input_dim\": self.input_dim,\n",
        "        })\n",
        "        return config"
      ]
    },
    {
      "cell_type": "code",
      "execution_count": 15,
      "metadata": {
        "colab": {
          "background_save": true
        },
        "id": "_p4X4px-TjyW",
        "outputId": "41a4c5e3-e197-47dc-910c-89249d6a8451"
      },
      "outputs": [
        {
          "name": "stdout",
          "output_type": "stream",
          "text": [
            "Defaulting to user installation because normal site-packages is not writeable\n",
            "Requirement already satisfied: transformers in /home/rogendo/.local/lib/python3.10/site-packages (4.35.2)\n",
            "Requirement already satisfied: tokenizers<0.19,>=0.14 in /home/rogendo/.local/lib/python3.10/site-packages (from transformers) (0.15.0)\n",
            "Requirement already satisfied: packaging>=20.0 in /home/rogendo/.local/lib/python3.10/site-packages (from transformers) (23.2)\n",
            "Requirement already satisfied: huggingface-hub<1.0,>=0.16.4 in /home/rogendo/.local/lib/python3.10/site-packages (from transformers) (0.19.4)\n",
            "Requirement already satisfied: regex!=2019.12.17 in /home/rogendo/.local/lib/python3.10/site-packages (from transformers) (2023.10.3)\n",
            "Requirement already satisfied: safetensors>=0.3.1 in /home/rogendo/.local/lib/python3.10/site-packages (from transformers) (0.4.1)\n",
            "Requirement already satisfied: pyyaml>=5.1 in /usr/lib/python3/dist-packages (from transformers) (5.4.1)\n",
            "Requirement already satisfied: requests in /home/rogendo/.local/lib/python3.10/site-packages (from transformers) (2.31.0)\n",
            "Requirement already satisfied: filelock in /home/rogendo/.local/lib/python3.10/site-packages (from transformers) (3.13.1)\n",
            "Requirement already satisfied: numpy>=1.17 in /home/rogendo/.local/lib/python3.10/site-packages (from transformers) (1.26.2)\n",
            "Requirement already satisfied: tqdm>=4.27 in /home/rogendo/.local/lib/python3.10/site-packages (from transformers) (4.66.1)\n",
            "Requirement already satisfied: typing-extensions>=3.7.4.3 in /home/rogendo/.local/lib/python3.10/site-packages (from huggingface-hub<1.0,>=0.16.4->transformers) (4.8.0)\n",
            "Requirement already satisfied: fsspec>=2023.5.0 in /home/rogendo/.local/lib/python3.10/site-packages (from huggingface-hub<1.0,>=0.16.4->transformers) (2023.12.1)\n",
            "Requirement already satisfied: urllib3<3,>=1.21.1 in /usr/lib/python3/dist-packages (from requests->transformers) (1.26.5)\n",
            "Requirement already satisfied: idna<4,>=2.5 in /usr/lib/python3/dist-packages (from requests->transformers) (3.3)\n",
            "Requirement already satisfied: charset-normalizer<4,>=2 in /home/rogendo/.local/lib/python3.10/site-packages (from requests->transformers) (3.3.2)\n",
            "Requirement already satisfied: certifi>=2017.4.17 in /usr/lib/python3/dist-packages (from requests->transformers) (2020.6.20)\n"
          ]
        }
      ],
      "source": [
        "!pip install transformers"
      ]
    },
    {
      "cell_type": "code",
      "execution_count": null,
      "metadata": {
        "id": "QAaLiHCFX0V7"
      },
      "outputs": [],
      "source": []
    },
    {
      "cell_type": "code",
      "execution_count": 16,
      "metadata": {
        "id": "-3jdrXkFchLx"
      },
      "outputs": [],
      "source": [
        "import tensorflow as tf\n",
        "\n",
        "class MyTransformerEncoder(tf.keras.layers.Layer):\n",
        "    def __init__(self, embed_dim, dense_dim, num_heads, **kwargs):\n",
        "        super(MyTransformerEncoder, self).__init__(**kwargs)\n",
        "        self.embed_dim = embed_dim\n",
        "        self.dense_dim = dense_dim\n",
        "        self.num_heads = num_heads\n",
        "        self.attention = tf.keras.layers.MultiHeadAttention(\n",
        "            num_heads=num_heads, key_dim=embed_dim\n",
        "        )\n",
        "        self.dense1 = tf.keras.layers.Dense(dense_dim, activation=\"relu\")\n",
        "        self.dense2 = tf.keras.layers.Dense(embed_dim)\n",
        "        self.dropout1 = tf.keras.layers.Dropout(0.1)\n",
        "        self.dropout2 = tf.keras.layers.Dropout(0.1)\n",
        "        self.layer_norm1 = tf.keras.layers.LayerNormalization()\n",
        "        self.layer_norm2 = tf.keras.layers.LayerNormalization()\n",
        "\n",
        "    def call(self, inputs, training=False):\n",
        "        attn_output = self.attention(inputs, inputs)\n",
        "        attn_output = self.dropout1(attn_output, training=training)\n",
        "        out1 = self.layer_norm1(inputs + attn_output)\n",
        "        dense_output = self.dense1(out1)\n",
        "        dense_output = self.dense2(dense_output)\n",
        "        dense_output = self.dropout2(dense_output, training=training)\n",
        "        out2 = self.layer_norm2(out1 + dense_output)\n",
        "        return out2\n"
      ]
    },
    {
      "cell_type": "code",
      "execution_count": 17,
      "metadata": {
        "id": "86laGNPacisF"
      },
      "outputs": [],
      "source": [
        "embed_dim = 256\n",
        "dense_dim = 2048\n",
        "num_heads = 8\n",
        "\n",
        "encoder_inputs = keras.Input(shape=(None,), dtype=\"int64\", name=\"english\")\n",
        "x = PositionalEmbedding(sequence_length, vocab_size, embed_dim)(encoder_inputs)\n",
        "encoder_outputs = MyTransformerEncoder(embed_dim, dense_dim, num_heads)(x)\n",
        "\n",
        "decoder_inputs = keras.Input(shape=(None,), dtype=\"int64\", name=\"swahili\")\n",
        "x = PositionalEmbedding(sequence_length, vocab_size, embed_dim)(decoder_inputs)\n",
        "x = TransformerDecoder(embed_dim, dense_dim, num_heads)(x, encoder_outputs)\n",
        "x = layers.Dropout(0.5)(x)\n",
        "decoder_outputs = layers.Dense(vocab_size, activation=\"softmax\")(x)\n",
        "transformer = keras.Model([encoder_inputs, decoder_inputs], decoder_outputs)\n"
      ]
    },
    {
      "cell_type": "code",
      "execution_count": 18,
      "metadata": {
        "colab": {
          "background_save": true
        },
        "id": "UXvuacIidaUY"
      },
      "outputs": [
        {
          "name": "stdout",
          "output_type": "stream",
          "text": [
            "Model: \"model_1\"\n",
            "__________________________________________________________________________________________________\n",
            " Layer (type)                Output Shape                 Param #   Connected to                  \n",
            "==================================================================================================\n",
            " english (InputLayer)        [(None, None)]               0         []                            \n",
            "                                                                                                  \n",
            " swahili (InputLayer)        [(None, None)]               0         []                            \n",
            "                                                                                                  \n",
            " positional_embedding (Posi  (None, None, 256)            3845120   ['english[0][0]']             \n",
            " tionalEmbedding)                                                                                 \n",
            "                                                                                                  \n",
            " positional_embedding_1 (Po  (None, None, 256)            3845120   ['swahili[0][0]']             \n",
            " sitionalEmbedding)                                                                               \n",
            "                                                                                                  \n",
            " my_transformer_encoder (My  (None, None, 256)            3155456   ['positional_embedding[0][0]']\n",
            " TransformerEncoder)                                                                              \n",
            "                                                                                                  \n",
            " transformer_decoder (Trans  (None, None, 256)            5259520   ['positional_embedding_1[0][0]\n",
            " formerDecoder)                                                     ',                            \n",
            "                                                                     'my_transformer_encoder[0][0]\n",
            "                                                                    ']                            \n",
            "                                                                                                  \n",
            " dropout_3 (Dropout)         (None, None, 256)            0         ['transformer_decoder[0][0]'] \n",
            "                                                                                                  \n",
            " dense_5 (Dense)             (None, None, 15000)          3855000   ['dropout_3[0][0]']           \n",
            "                                                                                                  \n",
            "==================================================================================================\n",
            "Total params: 19960216 (76.14 MB)\n",
            "Trainable params: 19960216 (76.14 MB)\n",
            "Non-trainable params: 0 (0.00 Byte)\n",
            "__________________________________________________________________________________________________\n"
          ]
        }
      ],
      "source": [
        "transformer.summary()"
      ]
    },
    {
      "cell_type": "markdown",
      "metadata": {
        "id": "FqTUFbzoi_RF"
      },
      "source": [
        "# Training the sequence-to-sequence Transformer\n",
        "\n",
        "\n",
        "\n"
      ]
    },
    {
      "cell_type": "code",
      "execution_count": 19,
      "metadata": {
        "colab": {
          "base_uri": "https://localhost:8080/"
        },
        "id": "Uu8JH826RfyM",
        "outputId": "40c0319a-37e4-4538-d70c-a16b269e21ce"
      },
      "outputs": [
        {
          "name": "stdout",
          "output_type": "stream",
          "text": [
            "Epoch 1/50\n"
          ]
        },
        {
          "name": "stderr",
          "output_type": "stream",
          "text": [
            "2023-12-11 10:43:54.506717: W external/local_tsl/tsl/framework/cpu_allocator_impl.cc:83] Allocation of 415200000 exceeds 10% of free system memory.\n",
            "2023-12-11 10:43:55.479855: W external/local_tsl/tsl/framework/cpu_allocator_impl.cc:83] Allocation of 415200000 exceeds 10% of free system memory.\n",
            "2023-12-11 10:43:55.480021: W external/local_tsl/tsl/framework/cpu_allocator_impl.cc:83] Allocation of 415200000 exceeds 10% of free system memory.\n"
          ]
        },
        {
          "name": "stdout",
          "output_type": "stream",
          "text": [
            " 1/12 [=>............................] - ETA: 3:02 - loss: 9.6444 - accuracy: 0.0000e+00"
          ]
        },
        {
          "name": "stderr",
          "output_type": "stream",
          "text": [
            "2023-12-11 10:44:04.930951: W external/local_tsl/tsl/framework/cpu_allocator_impl.cc:83] Allocation of 614400000 exceeds 10% of free system memory.\n",
            "2023-12-11 10:44:05.880656: W external/local_tsl/tsl/framework/cpu_allocator_impl.cc:83] Allocation of 614400000 exceeds 10% of free system memory.\n"
          ]
        },
        {
          "name": "stdout",
          "output_type": "stream",
          "text": [
            "12/12 [==============================] - 193s 16s/step - loss: 7.9741 - accuracy: 0.1282 - val_loss: 6.8449 - val_accuracy: 0.1378\n",
            "Epoch 2/50\n",
            "12/12 [==============================] - 154s 13s/step - loss: 6.6423 - accuracy: 0.1383 - val_loss: 6.5139 - val_accuracy: 0.1412\n",
            "Epoch 3/50\n",
            "12/12 [==============================] - 157s 14s/step - loss: 6.4572 - accuracy: 0.1428 - val_loss: 6.3882 - val_accuracy: 0.1472\n",
            "Epoch 4/50\n",
            "12/12 [==============================] - 141s 12s/step - loss: 6.2922 - accuracy: 0.1532 - val_loss: 6.2324 - val_accuracy: 0.1637\n",
            "Epoch 5/50\n",
            "12/12 [==============================] - 138s 12s/step - loss: 6.1263 - accuracy: 0.1663 - val_loss: 6.1332 - val_accuracy: 0.1853\n",
            "Epoch 6/50\n",
            "12/12 [==============================] - 138s 12s/step - loss: 5.9011 - accuracy: 0.1886 - val_loss: 5.9463 - val_accuracy: 0.2094\n",
            "Epoch 7/50\n",
            "12/12 [==============================] - 141s 12s/step - loss: 5.7947 - accuracy: 0.2012 - val_loss: 5.8229 - val_accuracy: 0.2163\n",
            "Epoch 8/50\n",
            "12/12 [==============================] - 137s 12s/step - loss: 5.5634 - accuracy: 0.2196 - val_loss: 5.6550 - val_accuracy: 0.2327\n",
            "Epoch 9/50\n",
            "12/12 [==============================] - 154s 13s/step - loss: 5.4080 - accuracy: 0.2272 - val_loss: 5.6421 - val_accuracy: 0.2251\n",
            "Epoch 10/50\n",
            "12/12 [==============================] - 166s 14s/step - loss: 5.2140 - accuracy: 0.2525 - val_loss: 5.4661 - val_accuracy: 0.2498\n",
            "Epoch 11/50\n",
            "12/12 [==============================] - 166s 14s/step - loss: 5.1392 - accuracy: 0.2465 - val_loss: 5.6080 - val_accuracy: 0.2267\n",
            "Epoch 12/50\n",
            "12/12 [==============================] - 156s 13s/step - loss: 4.9713 - accuracy: 0.2651 - val_loss: 5.3721 - val_accuracy: 0.2553\n",
            "Epoch 13/50\n",
            "12/12 [==============================] - 141s 12s/step - loss: 4.7884 - accuracy: 0.2813 - val_loss: 5.4464 - val_accuracy: 0.2467\n",
            "Epoch 14/50\n",
            "12/12 [==============================] - 148s 13s/step - loss: 4.7280 - accuracy: 0.2818 - val_loss: 5.2810 - val_accuracy: 0.2622\n",
            "Epoch 15/50\n",
            "12/12 [==============================] - 154s 13s/step - loss: 4.5469 - accuracy: 0.2971 - val_loss: 5.3850 - val_accuracy: 0.2505\n",
            "Epoch 16/50\n",
            "12/12 [==============================] - 184s 16s/step - loss: 4.3628 - accuracy: 0.3138 - val_loss: 5.3133 - val_accuracy: 0.2639\n",
            "Epoch 17/50\n",
            "12/12 [==============================] - 156s 13s/step - loss: 4.4201 - accuracy: 0.2988 - val_loss: 5.3109 - val_accuracy: 0.2467\n",
            "Epoch 18/50\n",
            "12/12 [==============================] - 141s 12s/step - loss: 4.1422 - accuracy: 0.3353 - val_loss: 5.2392 - val_accuracy: 0.2675\n",
            "Epoch 19/50\n",
            "12/12 [==============================] - 154s 13s/step - loss: 4.0495 - accuracy: 0.3394 - val_loss: 5.2728 - val_accuracy: 0.2603\n",
            "Epoch 20/50\n",
            "12/12 [==============================] - 254s 22s/step - loss: 3.9633 - accuracy: 0.3476 - val_loss: 5.2807 - val_accuracy: 0.2659\n",
            "Epoch 21/50\n",
            "12/12 [==============================] - 277s 24s/step - loss: 3.7928 - accuracy: 0.3657 - val_loss: 5.2306 - val_accuracy: 0.2661\n",
            "Epoch 22/50\n",
            "12/12 [==============================] - 228s 20s/step - loss: 3.6862 - accuracy: 0.3788 - val_loss: 5.1478 - val_accuracy: 0.2822\n",
            "Epoch 23/50\n",
            "12/12 [==============================] - 284s 25s/step - loss: 3.5800 - accuracy: 0.3854 - val_loss: 5.3256 - val_accuracy: 0.2498\n",
            "Epoch 24/50\n",
            "12/12 [==============================] - 283s 25s/step - loss: 3.5864 - accuracy: 0.3845 - val_loss: 5.1757 - val_accuracy: 0.2845\n",
            "Epoch 25/50\n",
            "12/12 [==============================] - 243s 21s/step - loss: 3.3643 - accuracy: 0.4089 - val_loss: 5.1464 - val_accuracy: 0.2860\n",
            "Epoch 26/50\n",
            "12/12 [==============================] - 260s 22s/step - loss: 3.2219 - accuracy: 0.4244 - val_loss: 5.1060 - val_accuracy: 0.2986\n",
            "Epoch 27/50\n",
            "12/12 [==============================] - 232s 20s/step - loss: 3.2221 - accuracy: 0.4261 - val_loss: 5.1732 - val_accuracy: 0.2883\n",
            "Epoch 28/50\n",
            "12/12 [==============================] - 204s 18s/step - loss: 3.0457 - accuracy: 0.4462 - val_loss: 5.2008 - val_accuracy: 0.2738\n",
            "Epoch 29/50\n",
            "12/12 [==============================] - 194s 16s/step - loss: 2.9654 - accuracy: 0.4573 - val_loss: 5.1107 - val_accuracy: 0.2816\n",
            "Epoch 30/50\n",
            "12/12 [==============================] - 183s 16s/step - loss: 2.8017 - accuracy: 0.4827 - val_loss: 5.1229 - val_accuracy: 0.3013\n",
            "Epoch 31/50\n",
            "12/12 [==============================] - 186s 16s/step - loss: 2.8097 - accuracy: 0.4676 - val_loss: 5.1033 - val_accuracy: 0.2987\n",
            "Epoch 32/50\n",
            "12/12 [==============================] - 216s 19s/step - loss: 2.6319 - accuracy: 0.5022 - val_loss: 5.1369 - val_accuracy: 0.2787\n",
            "Epoch 33/50\n",
            "12/12 [==============================] - 353s 30s/step - loss: 2.5284 - accuracy: 0.5119 - val_loss: 5.0668 - val_accuracy: 0.3093\n",
            "Epoch 34/50\n",
            "12/12 [==============================] - 549s 48s/step - loss: 2.5011 - accuracy: 0.5115 - val_loss: 5.0363 - val_accuracy: 0.3111\n",
            "Epoch 35/50\n",
            "12/12 [==============================] - 196s 16s/step - loss: 2.2940 - accuracy: 0.5480 - val_loss: 5.1835 - val_accuracy: 0.2894\n",
            "Epoch 36/50\n",
            "12/12 [==============================] - 179s 15s/step - loss: 2.3110 - accuracy: 0.5403 - val_loss: 5.0952 - val_accuracy: 0.3141\n",
            "Epoch 37/50\n",
            "12/12 [==============================] - 167s 14s/step - loss: 2.1651 - accuracy: 0.5625 - val_loss: 5.1884 - val_accuracy: 0.3137\n",
            "Epoch 38/50\n",
            "12/12 [==============================] - 205s 18s/step - loss: 2.0541 - accuracy: 0.5749 - val_loss: 5.1483 - val_accuracy: 0.3018\n",
            "Epoch 39/50\n",
            "12/12 [==============================] - 203s 17s/step - loss: 2.0323 - accuracy: 0.5777 - val_loss: 5.0938 - val_accuracy: 0.3164\n",
            "Epoch 40/50\n",
            "12/12 [==============================] - 231s 20s/step - loss: 1.7710 - accuracy: 0.6318 - val_loss: 5.0606 - val_accuracy: 0.3271\n",
            "Epoch 41/50\n",
            "12/12 [==============================] - 228s 20s/step - loss: 2.0324 - accuracy: 0.5720 - val_loss: 5.0477 - val_accuracy: 0.3251\n",
            "Epoch 42/50\n",
            "12/12 [==============================] - 227s 19s/step - loss: 1.6304 - accuracy: 0.6530 - val_loss: 5.1642 - val_accuracy: 0.3057\n",
            "Epoch 43/50\n",
            "12/12 [==============================] - 243s 21s/step - loss: 1.6073 - accuracy: 0.6510 - val_loss: 5.1067 - val_accuracy: 0.3148\n",
            "Epoch 44/50\n",
            "12/12 [==============================] - 203s 17s/step - loss: 1.5038 - accuracy: 0.6768 - val_loss: 5.1911 - val_accuracy: 0.3213\n",
            "Epoch 45/50\n",
            "12/12 [==============================] - 166s 14s/step - loss: 1.5965 - accuracy: 0.6484 - val_loss: 5.0775 - val_accuracy: 0.3386\n",
            "Epoch 46/50\n",
            "12/12 [==============================] - 164s 14s/step - loss: 1.3424 - accuracy: 0.7048 - val_loss: 5.1766 - val_accuracy: 0.3169\n",
            "Epoch 47/50\n",
            "12/12 [==============================] - 150s 13s/step - loss: 1.2617 - accuracy: 0.7206 - val_loss: 5.1712 - val_accuracy: 0.3132\n",
            "Epoch 48/50\n",
            "12/12 [==============================] - 185s 16s/step - loss: 1.4437 - accuracy: 0.6792 - val_loss: 5.1418 - val_accuracy: 0.3262\n",
            "Epoch 49/50\n",
            "12/12 [==============================] - 182s 16s/step - loss: 1.0759 - accuracy: 0.7621 - val_loss: 5.2119 - val_accuracy: 0.3365\n",
            "Epoch 50/50\n",
            "12/12 [==============================] - 157s 14s/step - loss: 1.0710 - accuracy: 0.7600 - val_loss: 5.2793 - val_accuracy: 0.3241\n"
          ]
        }
      ],
      "source": [
        "\n",
        "transformer.compile(\n",
        "    optimizer=\"rmsprop\",\n",
        "    loss=\"sparse_categorical_crossentropy\",\n",
        "    metrics=[\"accuracy\"])\n",
        "history=transformer.fit(train_ds, epochs=50, validation_data=val_ds)\n"
      ]
    },
    {
      "cell_type": "markdown",
      "metadata": {
        "id": "9-AhClLIjDh3"
      },
      "source": [
        "**visualization of accuracy and validation**"
      ]
    },
    {
      "cell_type": "code",
      "execution_count": 20,
      "metadata": {
        "id": "resWpj2sdv2z"
      },
      "outputs": [
        {
          "data": {
            "image/png": "[encoded data removed]",
            "text/plain": [
              "<Figure size 640x480 with 1 Axes>"
            ]
          },
          "metadata": {},
          "output_type": "display_data"
        },
        {
          "data": {
            "text/plain": [
              "<Figure size 640x480 with 0 Axes>"
            ]
          },
          "metadata": {},
          "output_type": "display_data"
        },
        {
          "data": {
            "text/plain": [
              "<Figure size 640x480 with 0 Axes>"
            ]
          },
          "execution_count": 20,
          "metadata": {},
          "output_type": "execute_result"
        },
        {
          "data": {
            "image/png": "[encoded data removed]",
            "text/plain": [
              "<Figure size 640x480 with 1 Axes>"
            ]
          },
          "metadata": {},
          "output_type": "display_data"
        },
        {
          "data": {
            "text/plain": [
              "<Figure size 640x480 with 0 Axes>"
            ]
          },
          "metadata": {},
          "output_type": "display_data"
        }
      ],
      "source": [
        "import matplotlib.pyplot as plt\n",
        "\n",
        "%matplotlib inline\n",
        "import matplotlib.pyplot as plt\n",
        "acc = history.history['accuracy']\n",
        "val_acc = history.history['val_accuracy']\n",
        "loss = history.history['loss']\n",
        "val_loss = history.history['val_loss']\n",
        "\n",
        "epochs = range(len(acc))\n",
        "\n",
        "plt.plot(epochs, acc, 'g', label='Training accuracy')\n",
        "plt.plot(epochs, val_acc, 'b', label='Validation accuracy')\n",
        "plt.title('Training and validation accuracy')\n",
        "plt.legend(loc=0)\n",
        "plt.savefig('wordA2.png')\n",
        "plt.figure()\n",
        "plt.show()\n",
        "\n",
        "plt.plot(epochs, loss, 'r', label='Training loss')\n",
        "plt.plot(epochs, val_loss, 'o', label='Validation loss')\n",
        "plt.title('Training and validation loss')\n",
        "plt.legend(loc=0)\n",
        "plt.savefig('wordL2.png')\n",
        "plt.figure()"
      ]
    },
    {
      "cell_type": "markdown",
      "metadata": {
        "id": "5T0muh5hjONu"
      },
      "source": [
        "# Translating new sentences with our Transformer model\n",
        "\n",
        "\n",
        "\n",
        "\n"
      ]
    },
    {
      "cell_type": "code",
      "execution_count": 21,
      "metadata": {
        "id": "O-XzM4O7RkHU"
      },
      "outputs": [
        {
          "name": "stdout",
          "output_type": "stream",
          "text": [
            "-\n",
            "The regime was responsible for the death of civilians across the country\n",
            "[start] huyo aliripoti juu ya kesi ya umeme             \n",
            "-\n",
            "Patients who fail to swallow medicine as prescribed take long to recover\n",
            "[start] chakula cha mama yangu baada ya mtu mwingine            leo\n",
            "-\n",
            "One of the presidential candidates is popular\n",
            "[start] moja ya nyumba ni uchaguzi               \n",
            "-\n",
            "The soldiers had just completed their training\n",
            "[start] huyo aliripoti juu ya kifo cha polisi             \n",
            "-\n",
            "His short videos made rounds on the social platforms\n",
            "[start] yake ndogo iko kwenye shamba lake              leo\n",
            "-\n",
            "The dogs were barking out loud at night\n",
            "[start] hiyo sio nyumba zao                leo\n",
            "-\n",
            "Many people fled into rural areas\n",
            "[start] wengi walipoteza maisha ya vijijini               \n",
            "-\n",
            "The kids feel safe when their father is around\n",
            "[start] hiyo ni wakati baba yao yuko karibu             leo\n",
            "-\n",
            "Poultry is encouraged to enable people earn money\n",
            "[start] watu hawa wanafanya nini                leo\n",
            "-\n",
            "There are many smuggled goods in the country\n",
            "[start] uchumi tofauti wengi                 \n",
            "-\n",
            "Mother does not want him to play with us because he uses vulgar language\n",
            "[start] mama yake na watoto kabla ya baba yake            na\n",
            "-\n",
            "A ripe banana is very sweet\n",
            "[start] kubwa ni ndizi                 \n",
            "-\n",
            "The missionary movement became increasingly radical and militant\n",
            "[start] huyo aliripoti juu ya kijeshi               na\n",
            "-\n",
            "We ate porridge for break fast today\n",
            "[start] chakula cha jioni kwenye shamba lake              leo\n",
            "-\n",
            "What do you want to become in future\n",
            "[start] nini kilitokea kwa macho yetu               \n",
            "-\n",
            "They had plans of returning home\n",
            "[start] chakula cha kula nyumbani                \n",
            "-\n",
            "Despite the existence of the human resource policy shortages of health workers persist\n",
            "[start] ndio chanzo kikuu cha afya kuongeza mishahara ya wafanyikazi wa afya         za\n",
            "-\n",
            "Her brother is now ten years old\n",
            "[start] yake sasa ni miaka kumi               \n",
            "-\n",
            "Some people died during the drought\n",
            "[start] wengine wanaamini kuwa watu wengine               \n",
            "-\n",
            "He planned to kill his brother\n",
            "[start] yake                   \n"
          ]
        }
      ],
      "source": [
        "\n",
        "\n",
        "import numpy as np\n",
        "swa_vocab = target_vectorization.get_vocabulary()\n",
        "swa_index_lookup = dict(zip(range(len(swa_vocab)), swa_vocab))\n",
        "max_decoded_sentence_length = 20\n",
        "\n",
        "def decode_sequence(input_sentence):\n",
        "    tokenized_input_sentence = source_vectorization([input_sentence])\n",
        "    decoded_sentence = \"[start]\"\n",
        "    for i in range(max_decoded_sentence_length):\n",
        "        tokenized_target_sentence = target_vectorization(\n",
        "            [decoded_sentence])[:, :-1]\n",
        "        predictions = transformer(\n",
        "            [tokenized_input_sentence, tokenized_target_sentence])\n",
        "        sampled_token_index = np.argmax(predictions[0, i, :])\n",
        "        sampled_token = swa_index_lookup[sampled_token_index]\n",
        "        decoded_sentence += \" \" + sampled_token\n",
        "        if sampled_token == \"[end]\":\n",
        "            break\n",
        "    return decoded_sentence\n",
        "\n",
        "test_eng_texts = [pair[0] for pair in pairs]\n",
        "for _ in range(20):\n",
        "    input_sentence = random.choice(test_eng_texts)\n",
        "\n",
        "    print(\"-\")\n",
        "    print(input_sentence)\n",
        "    print(decode_sequence(input_sentence))\n"
      ]
    },
    {
      "cell_type": "code",
      "execution_count": null,
      "metadata": {},
      "outputs": [],
      "source": []
    }
  ],
  "metadata": {
    "accelerator": "GPU",
    "colab": {
      "provenance": []
    },
    "gpuClass": "standard",
    "kernelspec": {
      "display_name": "Python 3",
      "name": "python3"
    },
    "language_info": {
      "codemirror_mode": {
        "name": "ipython",
        "version": 3
      },
      "file_extension": ".py",
      "mimetype": "text/x-python",
      "name": "python",
      "nbconvert_exporter": "python",
      "pygments_lexer": "ipython3",
      "version": "3.10.12"
    }
  },
  "nbformat": 4,
  "nbformat_minor": 0
}
